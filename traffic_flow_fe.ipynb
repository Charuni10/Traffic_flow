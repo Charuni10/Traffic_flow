{
  "cells": [
    {
      "cell_type": "code",
      "execution_count": 1,
      "metadata": {
        "colab": {
          "base_uri": "https://localhost:8080/"
        },
        "id": "0imJfitOArrP",
        "outputId": "d4e6e1e5-2cd2-4462-c0f0-ad429a9609ec"
      },
      "outputs": [
        {
          "output_type": "stream",
          "name": "stdout",
          "text": [
            "Mounted at /content/drive\n"
          ]
        }
      ],
      "source": [
        "from google.colab import drive\n",
        "drive.mount('/content/drive')"
      ]
    },
    {
      "cell_type": "code",
      "execution_count": 2,
      "metadata": {
        "colab": {
          "base_uri": "https://localhost:8080/"
        },
        "id": "Q1ywj6BHA9Kv",
        "outputId": "da736e92-455e-4220-dfbd-13dcfe891410"
      },
      "outputs": [
        {
          "output_type": "stream",
          "name": "stdout",
          "text": [
            "Looking in indexes: https://pypi.org/simple, https://us-python.pkg.dev/colab-wheels/public/simple/\n",
            "Collecting catboost\n",
            "  Downloading catboost-1.0.6-cp37-none-manylinux1_x86_64.whl (76.6 MB)\n",
            "\u001b[K     |████████████████████████████████| 76.6 MB 1.1 MB/s \n",
            "\u001b[?25hRequirement already satisfied: matplotlib in /usr/local/lib/python3.7/dist-packages (from catboost) (3.2.2)\n",
            "Requirement already satisfied: numpy>=1.16.0 in /usr/local/lib/python3.7/dist-packages (from catboost) (1.21.6)\n",
            "Requirement already satisfied: scipy in /usr/local/lib/python3.7/dist-packages (from catboost) (1.4.1)\n",
            "Requirement already satisfied: six in /usr/local/lib/python3.7/dist-packages (from catboost) (1.15.0)\n",
            "Requirement already satisfied: graphviz in /usr/local/lib/python3.7/dist-packages (from catboost) (0.10.1)\n",
            "Requirement already satisfied: pandas>=0.24.0 in /usr/local/lib/python3.7/dist-packages (from catboost) (1.3.5)\n",
            "Requirement already satisfied: plotly in /usr/local/lib/python3.7/dist-packages (from catboost) (5.5.0)\n",
            "Requirement already satisfied: pytz>=2017.3 in /usr/local/lib/python3.7/dist-packages (from pandas>=0.24.0->catboost) (2022.1)\n",
            "Requirement already satisfied: python-dateutil>=2.7.3 in /usr/local/lib/python3.7/dist-packages (from pandas>=0.24.0->catboost) (2.8.2)\n",
            "Requirement already satisfied: cycler>=0.10 in /usr/local/lib/python3.7/dist-packages (from matplotlib->catboost) (0.11.0)\n",
            "Requirement already satisfied: kiwisolver>=1.0.1 in /usr/local/lib/python3.7/dist-packages (from matplotlib->catboost) (1.4.3)\n",
            "Requirement already satisfied: pyparsing!=2.0.4,!=2.1.2,!=2.1.6,>=2.0.1 in /usr/local/lib/python3.7/dist-packages (from matplotlib->catboost) (3.0.9)\n",
            "Requirement already satisfied: typing-extensions in /usr/local/lib/python3.7/dist-packages (from kiwisolver>=1.0.1->matplotlib->catboost) (4.1.1)\n",
            "Requirement already satisfied: tenacity>=6.2.0 in /usr/local/lib/python3.7/dist-packages (from plotly->catboost) (8.0.1)\n",
            "Installing collected packages: catboost\n",
            "Successfully installed catboost-1.0.6\n"
          ]
        }
      ],
      "source": [
        "! pip install catboost"
      ]
    },
    {
      "cell_type": "code",
      "execution_count": 38,
      "metadata": {
        "id": "FGfplqF6BJfa"
      },
      "outputs": [],
      "source": [
        "import pandas as pd\n",
        "import numpy as np\n",
        "import matplotlib.pyplot as plt\n",
        "import seaborn as sns\n",
        "from sklearn import preprocessing\n",
        "from sklearn.model_selection import train_test_split\n",
        "from catboost import CatBoostRegressor\n",
        "from catboost import Pool\n",
        "import lightgbm as lgb\n",
        "from xgboost import XGBRegressor\n",
        "import datetime\n",
        "from sklearn.model_selection import GridSearchCV\n",
        "from  sklearn.metrics import mean_absolute_error,r2_score\n",
        "from keras.models import Sequential\n",
        "from keras.layers import Dense,Dropout,GRU\n",
        "from keras.callbacks import EarlyStopping"
      ]
    },
    {
      "cell_type": "code",
      "execution_count": 4,
      "metadata": {
        "id": "EFO5P8tijPdU"
      },
      "outputs": [],
      "source": [
        "train=pd.read_csv(\"/content/drive/My Drive/trafficflow_dataset/train.csv\")"
      ]
    },
    {
      "cell_type": "code",
      "execution_count": 5,
      "metadata": {
        "colab": {
          "base_uri": "https://localhost:8080/",
          "height": 206
        },
        "id": "SNIQ56HGjTZR",
        "outputId": "18ea5fc5-0c95-4bcf-b863-74092b0227f4"
      },
      "outputs": [
        {
          "output_type": "execute_result",
          "data": {
            "text/plain": [
              "   row_id                 time  x  y direction  congestion\n",
              "0       0  1991-04-01 00:00:00  0  0        EB          70\n",
              "1       1  1991-04-01 00:00:00  0  0        NB          49\n",
              "2       2  1991-04-01 00:00:00  0  0        SB          24\n",
              "3       3  1991-04-01 00:00:00  0  1        EB          18\n",
              "4       4  1991-04-01 00:00:00  0  1        NB          60"
            ],
            "text/html": [
              "\n",
              "  <div id=\"df-8fc16f7d-4041-4258-9f9e-dcdb1e9516de\">\n",
              "    <div class=\"colab-df-container\">\n",
              "      <div>\n",
              "<style scoped>\n",
              "    .dataframe tbody tr th:only-of-type {\n",
              "        vertical-align: middle;\n",
              "    }\n",
              "\n",
              "    .dataframe tbody tr th {\n",
              "        vertical-align: top;\n",
              "    }\n",
              "\n",
              "    .dataframe thead th {\n",
              "        text-align: right;\n",
              "    }\n",
              "</style>\n",
              "<table border=\"1\" class=\"dataframe\">\n",
              "  <thead>\n",
              "    <tr style=\"text-align: right;\">\n",
              "      <th></th>\n",
              "      <th>row_id</th>\n",
              "      <th>time</th>\n",
              "      <th>x</th>\n",
              "      <th>y</th>\n",
              "      <th>direction</th>\n",
              "      <th>congestion</th>\n",
              "    </tr>\n",
              "  </thead>\n",
              "  <tbody>\n",
              "    <tr>\n",
              "      <th>0</th>\n",
              "      <td>0</td>\n",
              "      <td>1991-04-01 00:00:00</td>\n",
              "      <td>0</td>\n",
              "      <td>0</td>\n",
              "      <td>EB</td>\n",
              "      <td>70</td>\n",
              "    </tr>\n",
              "    <tr>\n",
              "      <th>1</th>\n",
              "      <td>1</td>\n",
              "      <td>1991-04-01 00:00:00</td>\n",
              "      <td>0</td>\n",
              "      <td>0</td>\n",
              "      <td>NB</td>\n",
              "      <td>49</td>\n",
              "    </tr>\n",
              "    <tr>\n",
              "      <th>2</th>\n",
              "      <td>2</td>\n",
              "      <td>1991-04-01 00:00:00</td>\n",
              "      <td>0</td>\n",
              "      <td>0</td>\n",
              "      <td>SB</td>\n",
              "      <td>24</td>\n",
              "    </tr>\n",
              "    <tr>\n",
              "      <th>3</th>\n",
              "      <td>3</td>\n",
              "      <td>1991-04-01 00:00:00</td>\n",
              "      <td>0</td>\n",
              "      <td>1</td>\n",
              "      <td>EB</td>\n",
              "      <td>18</td>\n",
              "    </tr>\n",
              "    <tr>\n",
              "      <th>4</th>\n",
              "      <td>4</td>\n",
              "      <td>1991-04-01 00:00:00</td>\n",
              "      <td>0</td>\n",
              "      <td>1</td>\n",
              "      <td>NB</td>\n",
              "      <td>60</td>\n",
              "    </tr>\n",
              "  </tbody>\n",
              "</table>\n",
              "</div>\n",
              "      <button class=\"colab-df-convert\" onclick=\"convertToInteractive('df-8fc16f7d-4041-4258-9f9e-dcdb1e9516de')\"\n",
              "              title=\"Convert this dataframe to an interactive table.\"\n",
              "              style=\"display:none;\">\n",
              "        \n",
              "  <svg xmlns=\"http://www.w3.org/2000/svg\" height=\"24px\"viewBox=\"0 0 24 24\"\n",
              "       width=\"24px\">\n",
              "    <path d=\"M0 0h24v24H0V0z\" fill=\"none\"/>\n",
              "    <path d=\"M18.56 5.44l.94 2.06.94-2.06 2.06-.94-2.06-.94-.94-2.06-.94 2.06-2.06.94zm-11 1L8.5 8.5l.94-2.06 2.06-.94-2.06-.94L8.5 2.5l-.94 2.06-2.06.94zm10 10l.94 2.06.94-2.06 2.06-.94-2.06-.94-.94-2.06-.94 2.06-2.06.94z\"/><path d=\"M17.41 7.96l-1.37-1.37c-.4-.4-.92-.59-1.43-.59-.52 0-1.04.2-1.43.59L10.3 9.45l-7.72 7.72c-.78.78-.78 2.05 0 2.83L4 21.41c.39.39.9.59 1.41.59.51 0 1.02-.2 1.41-.59l7.78-7.78 2.81-2.81c.8-.78.8-2.07 0-2.86zM5.41 20L4 18.59l7.72-7.72 1.47 1.35L5.41 20z\"/>\n",
              "  </svg>\n",
              "      </button>\n",
              "      \n",
              "  <style>\n",
              "    .colab-df-container {\n",
              "      display:flex;\n",
              "      flex-wrap:wrap;\n",
              "      gap: 12px;\n",
              "    }\n",
              "\n",
              "    .colab-df-convert {\n",
              "      background-color: #E8F0FE;\n",
              "      border: none;\n",
              "      border-radius: 50%;\n",
              "      cursor: pointer;\n",
              "      display: none;\n",
              "      fill: #1967D2;\n",
              "      height: 32px;\n",
              "      padding: 0 0 0 0;\n",
              "      width: 32px;\n",
              "    }\n",
              "\n",
              "    .colab-df-convert:hover {\n",
              "      background-color: #E2EBFA;\n",
              "      box-shadow: 0px 1px 2px rgba(60, 64, 67, 0.3), 0px 1px 3px 1px rgba(60, 64, 67, 0.15);\n",
              "      fill: #174EA6;\n",
              "    }\n",
              "\n",
              "    [theme=dark] .colab-df-convert {\n",
              "      background-color: #3B4455;\n",
              "      fill: #D2E3FC;\n",
              "    }\n",
              "\n",
              "    [theme=dark] .colab-df-convert:hover {\n",
              "      background-color: #434B5C;\n",
              "      box-shadow: 0px 1px 3px 1px rgba(0, 0, 0, 0.15);\n",
              "      filter: drop-shadow(0px 1px 2px rgba(0, 0, 0, 0.3));\n",
              "      fill: #FFFFFF;\n",
              "    }\n",
              "  </style>\n",
              "\n",
              "      <script>\n",
              "        const buttonEl =\n",
              "          document.querySelector('#df-8fc16f7d-4041-4258-9f9e-dcdb1e9516de button.colab-df-convert');\n",
              "        buttonEl.style.display =\n",
              "          google.colab.kernel.accessAllowed ? 'block' : 'none';\n",
              "\n",
              "        async function convertToInteractive(key) {\n",
              "          const element = document.querySelector('#df-8fc16f7d-4041-4258-9f9e-dcdb1e9516de');\n",
              "          const dataTable =\n",
              "            await google.colab.kernel.invokeFunction('convertToInteractive',\n",
              "                                                     [key], {});\n",
              "          if (!dataTable) return;\n",
              "\n",
              "          const docLinkHtml = 'Like what you see? Visit the ' +\n",
              "            '<a target=\"_blank\" href=https://colab.research.google.com/notebooks/data_table.ipynb>data table notebook</a>'\n",
              "            + ' to learn more about interactive tables.';\n",
              "          element.innerHTML = '';\n",
              "          dataTable['output_type'] = 'display_data';\n",
              "          await google.colab.output.renderOutput(dataTable, element);\n",
              "          const docLink = document.createElement('div');\n",
              "          docLink.innerHTML = docLinkHtml;\n",
              "          element.appendChild(docLink);\n",
              "        }\n",
              "      </script>\n",
              "    </div>\n",
              "  </div>\n",
              "  "
            ]
          },
          "metadata": {},
          "execution_count": 5
        }
      ],
      "source": [
        "train.head()"
      ]
    },
    {
      "cell_type": "code",
      "execution_count": 6,
      "metadata": {
        "id": "oll9mvU3BV_K"
      },
      "outputs": [],
      "source": [
        "test=pd.read_csv(\"/content/drive/My Drive/trafficflow_dataset/test.csv\")"
      ]
    },
    {
      "cell_type": "code",
      "execution_count": 7,
      "metadata": {
        "colab": {
          "base_uri": "https://localhost:8080/",
          "height": 206
        },
        "id": "5zT8KGfTBawN",
        "outputId": "64cba8bc-693b-4478-babe-cc9fad3e942e"
      },
      "outputs": [
        {
          "output_type": "execute_result",
          "data": {
            "text/plain": [
              "   row_id                 time  x  y direction\n",
              "0  848835  1991-09-30 12:00:00  0  0        EB\n",
              "1  848836  1991-09-30 12:00:00  0  0        NB\n",
              "2  848837  1991-09-30 12:00:00  0  0        SB\n",
              "3  848838  1991-09-30 12:00:00  0  1        EB\n",
              "4  848839  1991-09-30 12:00:00  0  1        NB"
            ],
            "text/html": [
              "\n",
              "  <div id=\"df-48265808-faae-442d-abc3-64602037ea59\">\n",
              "    <div class=\"colab-df-container\">\n",
              "      <div>\n",
              "<style scoped>\n",
              "    .dataframe tbody tr th:only-of-type {\n",
              "        vertical-align: middle;\n",
              "    }\n",
              "\n",
              "    .dataframe tbody tr th {\n",
              "        vertical-align: top;\n",
              "    }\n",
              "\n",
              "    .dataframe thead th {\n",
              "        text-align: right;\n",
              "    }\n",
              "</style>\n",
              "<table border=\"1\" class=\"dataframe\">\n",
              "  <thead>\n",
              "    <tr style=\"text-align: right;\">\n",
              "      <th></th>\n",
              "      <th>row_id</th>\n",
              "      <th>time</th>\n",
              "      <th>x</th>\n",
              "      <th>y</th>\n",
              "      <th>direction</th>\n",
              "    </tr>\n",
              "  </thead>\n",
              "  <tbody>\n",
              "    <tr>\n",
              "      <th>0</th>\n",
              "      <td>848835</td>\n",
              "      <td>1991-09-30 12:00:00</td>\n",
              "      <td>0</td>\n",
              "      <td>0</td>\n",
              "      <td>EB</td>\n",
              "    </tr>\n",
              "    <tr>\n",
              "      <th>1</th>\n",
              "      <td>848836</td>\n",
              "      <td>1991-09-30 12:00:00</td>\n",
              "      <td>0</td>\n",
              "      <td>0</td>\n",
              "      <td>NB</td>\n",
              "    </tr>\n",
              "    <tr>\n",
              "      <th>2</th>\n",
              "      <td>848837</td>\n",
              "      <td>1991-09-30 12:00:00</td>\n",
              "      <td>0</td>\n",
              "      <td>0</td>\n",
              "      <td>SB</td>\n",
              "    </tr>\n",
              "    <tr>\n",
              "      <th>3</th>\n",
              "      <td>848838</td>\n",
              "      <td>1991-09-30 12:00:00</td>\n",
              "      <td>0</td>\n",
              "      <td>1</td>\n",
              "      <td>EB</td>\n",
              "    </tr>\n",
              "    <tr>\n",
              "      <th>4</th>\n",
              "      <td>848839</td>\n",
              "      <td>1991-09-30 12:00:00</td>\n",
              "      <td>0</td>\n",
              "      <td>1</td>\n",
              "      <td>NB</td>\n",
              "    </tr>\n",
              "  </tbody>\n",
              "</table>\n",
              "</div>\n",
              "      <button class=\"colab-df-convert\" onclick=\"convertToInteractive('df-48265808-faae-442d-abc3-64602037ea59')\"\n",
              "              title=\"Convert this dataframe to an interactive table.\"\n",
              "              style=\"display:none;\">\n",
              "        \n",
              "  <svg xmlns=\"http://www.w3.org/2000/svg\" height=\"24px\"viewBox=\"0 0 24 24\"\n",
              "       width=\"24px\">\n",
              "    <path d=\"M0 0h24v24H0V0z\" fill=\"none\"/>\n",
              "    <path d=\"M18.56 5.44l.94 2.06.94-2.06 2.06-.94-2.06-.94-.94-2.06-.94 2.06-2.06.94zm-11 1L8.5 8.5l.94-2.06 2.06-.94-2.06-.94L8.5 2.5l-.94 2.06-2.06.94zm10 10l.94 2.06.94-2.06 2.06-.94-2.06-.94-.94-2.06-.94 2.06-2.06.94z\"/><path d=\"M17.41 7.96l-1.37-1.37c-.4-.4-.92-.59-1.43-.59-.52 0-1.04.2-1.43.59L10.3 9.45l-7.72 7.72c-.78.78-.78 2.05 0 2.83L4 21.41c.39.39.9.59 1.41.59.51 0 1.02-.2 1.41-.59l7.78-7.78 2.81-2.81c.8-.78.8-2.07 0-2.86zM5.41 20L4 18.59l7.72-7.72 1.47 1.35L5.41 20z\"/>\n",
              "  </svg>\n",
              "      </button>\n",
              "      \n",
              "  <style>\n",
              "    .colab-df-container {\n",
              "      display:flex;\n",
              "      flex-wrap:wrap;\n",
              "      gap: 12px;\n",
              "    }\n",
              "\n",
              "    .colab-df-convert {\n",
              "      background-color: #E8F0FE;\n",
              "      border: none;\n",
              "      border-radius: 50%;\n",
              "      cursor: pointer;\n",
              "      display: none;\n",
              "      fill: #1967D2;\n",
              "      height: 32px;\n",
              "      padding: 0 0 0 0;\n",
              "      width: 32px;\n",
              "    }\n",
              "\n",
              "    .colab-df-convert:hover {\n",
              "      background-color: #E2EBFA;\n",
              "      box-shadow: 0px 1px 2px rgba(60, 64, 67, 0.3), 0px 1px 3px 1px rgba(60, 64, 67, 0.15);\n",
              "      fill: #174EA6;\n",
              "    }\n",
              "\n",
              "    [theme=dark] .colab-df-convert {\n",
              "      background-color: #3B4455;\n",
              "      fill: #D2E3FC;\n",
              "    }\n",
              "\n",
              "    [theme=dark] .colab-df-convert:hover {\n",
              "      background-color: #434B5C;\n",
              "      box-shadow: 0px 1px 3px 1px rgba(0, 0, 0, 0.15);\n",
              "      filter: drop-shadow(0px 1px 2px rgba(0, 0, 0, 0.3));\n",
              "      fill: #FFFFFF;\n",
              "    }\n",
              "  </style>\n",
              "\n",
              "      <script>\n",
              "        const buttonEl =\n",
              "          document.querySelector('#df-48265808-faae-442d-abc3-64602037ea59 button.colab-df-convert');\n",
              "        buttonEl.style.display =\n",
              "          google.colab.kernel.accessAllowed ? 'block' : 'none';\n",
              "\n",
              "        async function convertToInteractive(key) {\n",
              "          const element = document.querySelector('#df-48265808-faae-442d-abc3-64602037ea59');\n",
              "          const dataTable =\n",
              "            await google.colab.kernel.invokeFunction('convertToInteractive',\n",
              "                                                     [key], {});\n",
              "          if (!dataTable) return;\n",
              "\n",
              "          const docLinkHtml = 'Like what you see? Visit the ' +\n",
              "            '<a target=\"_blank\" href=https://colab.research.google.com/notebooks/data_table.ipynb>data table notebook</a>'\n",
              "            + ' to learn more about interactive tables.';\n",
              "          element.innerHTML = '';\n",
              "          dataTable['output_type'] = 'display_data';\n",
              "          await google.colab.output.renderOutput(dataTable, element);\n",
              "          const docLink = document.createElement('div');\n",
              "          docLink.innerHTML = docLinkHtml;\n",
              "          element.appendChild(docLink);\n",
              "        }\n",
              "      </script>\n",
              "    </div>\n",
              "  </div>\n",
              "  "
            ]
          },
          "metadata": {},
          "execution_count": 7
        }
      ],
      "source": [
        "test.head()"
      ]
    },
    {
      "cell_type": "code",
      "execution_count": 8,
      "metadata": {
        "colab": {
          "base_uri": "https://localhost:8080/",
          "height": 300
        },
        "id": "Lv4guBGJBcxN",
        "outputId": "28309182-7d2c-4d75-8dc9-0c077de2fc19"
      },
      "outputs": [
        {
          "output_type": "execute_result",
          "data": {
            "text/plain": [
              "              row_id              x              y     congestion\n",
              "count  848835.000000  848835.000000  848835.000000  848835.000000\n",
              "mean   424417.000000       1.138462       1.630769      47.815305\n",
              "std    245037.702211       0.801478       1.089379      16.799392\n",
              "min         0.000000       0.000000       0.000000       0.000000\n",
              "25%    212208.500000       0.000000       1.000000      35.000000\n",
              "50%    424417.000000       1.000000       2.000000      47.000000\n",
              "75%    636625.500000       2.000000       3.000000      60.000000\n",
              "max    848834.000000       2.000000       3.000000     100.000000"
            ],
            "text/html": [
              "\n",
              "  <div id=\"df-fa5abfb2-a539-46be-9982-53f9022314a7\">\n",
              "    <div class=\"colab-df-container\">\n",
              "      <div>\n",
              "<style scoped>\n",
              "    .dataframe tbody tr th:only-of-type {\n",
              "        vertical-align: middle;\n",
              "    }\n",
              "\n",
              "    .dataframe tbody tr th {\n",
              "        vertical-align: top;\n",
              "    }\n",
              "\n",
              "    .dataframe thead th {\n",
              "        text-align: right;\n",
              "    }\n",
              "</style>\n",
              "<table border=\"1\" class=\"dataframe\">\n",
              "  <thead>\n",
              "    <tr style=\"text-align: right;\">\n",
              "      <th></th>\n",
              "      <th>row_id</th>\n",
              "      <th>x</th>\n",
              "      <th>y</th>\n",
              "      <th>congestion</th>\n",
              "    </tr>\n",
              "  </thead>\n",
              "  <tbody>\n",
              "    <tr>\n",
              "      <th>count</th>\n",
              "      <td>848835.000000</td>\n",
              "      <td>848835.000000</td>\n",
              "      <td>848835.000000</td>\n",
              "      <td>848835.000000</td>\n",
              "    </tr>\n",
              "    <tr>\n",
              "      <th>mean</th>\n",
              "      <td>424417.000000</td>\n",
              "      <td>1.138462</td>\n",
              "      <td>1.630769</td>\n",
              "      <td>47.815305</td>\n",
              "    </tr>\n",
              "    <tr>\n",
              "      <th>std</th>\n",
              "      <td>245037.702211</td>\n",
              "      <td>0.801478</td>\n",
              "      <td>1.089379</td>\n",
              "      <td>16.799392</td>\n",
              "    </tr>\n",
              "    <tr>\n",
              "      <th>min</th>\n",
              "      <td>0.000000</td>\n",
              "      <td>0.000000</td>\n",
              "      <td>0.000000</td>\n",
              "      <td>0.000000</td>\n",
              "    </tr>\n",
              "    <tr>\n",
              "      <th>25%</th>\n",
              "      <td>212208.500000</td>\n",
              "      <td>0.000000</td>\n",
              "      <td>1.000000</td>\n",
              "      <td>35.000000</td>\n",
              "    </tr>\n",
              "    <tr>\n",
              "      <th>50%</th>\n",
              "      <td>424417.000000</td>\n",
              "      <td>1.000000</td>\n",
              "      <td>2.000000</td>\n",
              "      <td>47.000000</td>\n",
              "    </tr>\n",
              "    <tr>\n",
              "      <th>75%</th>\n",
              "      <td>636625.500000</td>\n",
              "      <td>2.000000</td>\n",
              "      <td>3.000000</td>\n",
              "      <td>60.000000</td>\n",
              "    </tr>\n",
              "    <tr>\n",
              "      <th>max</th>\n",
              "      <td>848834.000000</td>\n",
              "      <td>2.000000</td>\n",
              "      <td>3.000000</td>\n",
              "      <td>100.000000</td>\n",
              "    </tr>\n",
              "  </tbody>\n",
              "</table>\n",
              "</div>\n",
              "      <button class=\"colab-df-convert\" onclick=\"convertToInteractive('df-fa5abfb2-a539-46be-9982-53f9022314a7')\"\n",
              "              title=\"Convert this dataframe to an interactive table.\"\n",
              "              style=\"display:none;\">\n",
              "        \n",
              "  <svg xmlns=\"http://www.w3.org/2000/svg\" height=\"24px\"viewBox=\"0 0 24 24\"\n",
              "       width=\"24px\">\n",
              "    <path d=\"M0 0h24v24H0V0z\" fill=\"none\"/>\n",
              "    <path d=\"M18.56 5.44l.94 2.06.94-2.06 2.06-.94-2.06-.94-.94-2.06-.94 2.06-2.06.94zm-11 1L8.5 8.5l.94-2.06 2.06-.94-2.06-.94L8.5 2.5l-.94 2.06-2.06.94zm10 10l.94 2.06.94-2.06 2.06-.94-2.06-.94-.94-2.06-.94 2.06-2.06.94z\"/><path d=\"M17.41 7.96l-1.37-1.37c-.4-.4-.92-.59-1.43-.59-.52 0-1.04.2-1.43.59L10.3 9.45l-7.72 7.72c-.78.78-.78 2.05 0 2.83L4 21.41c.39.39.9.59 1.41.59.51 0 1.02-.2 1.41-.59l7.78-7.78 2.81-2.81c.8-.78.8-2.07 0-2.86zM5.41 20L4 18.59l7.72-7.72 1.47 1.35L5.41 20z\"/>\n",
              "  </svg>\n",
              "      </button>\n",
              "      \n",
              "  <style>\n",
              "    .colab-df-container {\n",
              "      display:flex;\n",
              "      flex-wrap:wrap;\n",
              "      gap: 12px;\n",
              "    }\n",
              "\n",
              "    .colab-df-convert {\n",
              "      background-color: #E8F0FE;\n",
              "      border: none;\n",
              "      border-radius: 50%;\n",
              "      cursor: pointer;\n",
              "      display: none;\n",
              "      fill: #1967D2;\n",
              "      height: 32px;\n",
              "      padding: 0 0 0 0;\n",
              "      width: 32px;\n",
              "    }\n",
              "\n",
              "    .colab-df-convert:hover {\n",
              "      background-color: #E2EBFA;\n",
              "      box-shadow: 0px 1px 2px rgba(60, 64, 67, 0.3), 0px 1px 3px 1px rgba(60, 64, 67, 0.15);\n",
              "      fill: #174EA6;\n",
              "    }\n",
              "\n",
              "    [theme=dark] .colab-df-convert {\n",
              "      background-color: #3B4455;\n",
              "      fill: #D2E3FC;\n",
              "    }\n",
              "\n",
              "    [theme=dark] .colab-df-convert:hover {\n",
              "      background-color: #434B5C;\n",
              "      box-shadow: 0px 1px 3px 1px rgba(0, 0, 0, 0.15);\n",
              "      filter: drop-shadow(0px 1px 2px rgba(0, 0, 0, 0.3));\n",
              "      fill: #FFFFFF;\n",
              "    }\n",
              "  </style>\n",
              "\n",
              "      <script>\n",
              "        const buttonEl =\n",
              "          document.querySelector('#df-fa5abfb2-a539-46be-9982-53f9022314a7 button.colab-df-convert');\n",
              "        buttonEl.style.display =\n",
              "          google.colab.kernel.accessAllowed ? 'block' : 'none';\n",
              "\n",
              "        async function convertToInteractive(key) {\n",
              "          const element = document.querySelector('#df-fa5abfb2-a539-46be-9982-53f9022314a7');\n",
              "          const dataTable =\n",
              "            await google.colab.kernel.invokeFunction('convertToInteractive',\n",
              "                                                     [key], {});\n",
              "          if (!dataTable) return;\n",
              "\n",
              "          const docLinkHtml = 'Like what you see? Visit the ' +\n",
              "            '<a target=\"_blank\" href=https://colab.research.google.com/notebooks/data_table.ipynb>data table notebook</a>'\n",
              "            + ' to learn more about interactive tables.';\n",
              "          element.innerHTML = '';\n",
              "          dataTable['output_type'] = 'display_data';\n",
              "          await google.colab.output.renderOutput(dataTable, element);\n",
              "          const docLink = document.createElement('div');\n",
              "          docLink.innerHTML = docLinkHtml;\n",
              "          element.appendChild(docLink);\n",
              "        }\n",
              "      </script>\n",
              "    </div>\n",
              "  </div>\n",
              "  "
            ]
          },
          "metadata": {},
          "execution_count": 8
        }
      ],
      "source": [
        "train.describe()"
      ]
    },
    {
      "cell_type": "code",
      "execution_count": 9,
      "metadata": {
        "colab": {
          "base_uri": "https://localhost:8080/"
        },
        "id": "8fhf2UQDBhZ3",
        "outputId": "81ce19ee-39a9-4a11-b251-11a89121579b"
      },
      "outputs": [
        {
          "output_type": "execute_result",
          "data": {
            "text/plain": [
              "array(['EB', 'NB', 'SB', 'WB', 'NE', 'SW', 'NW', 'SE'], dtype=object)"
            ]
          },
          "metadata": {},
          "execution_count": 9
        }
      ],
      "source": [
        "train['direction'].unique()"
      ]
    },
    {
      "cell_type": "code",
      "execution_count": 10,
      "metadata": {
        "colab": {
          "base_uri": "https://localhost:8080/",
          "height": 282
        },
        "id": "744dSM10Blwn",
        "outputId": "7e51c6c9-4cf3-435a-e7dc-f5a915f4e1fe"
      },
      "outputs": [
        {
          "output_type": "execute_result",
          "data": {
            "text/plain": [
              "<BarContainer object of 101 artists>"
            ]
          },
          "metadata": {},
          "execution_count": 10
        },
        {
          "output_type": "display_data",
          "data": {
            "text/plain": [
              "<Figure size 432x288 with 1 Axes>"
            ],
            "image/png": "[encoded data removed]"
          },
          "metadata": {
            "needs_background": "light"
          }
        }
      ],
      "source": [
        "plt.bar(range(101),train['congestion'].value_counts().sort_index())"
      ]
    },
    {
      "cell_type": "code",
      "execution_count": 11,
      "metadata": {
        "colab": {
          "base_uri": "https://localhost:8080/"
        },
        "id": "_SlyFaiFBorg",
        "outputId": "d5299f28-b2e4-4771-c551-5ff5f521a580"
      },
      "outputs": [
        {
          "output_type": "execute_result",
          "data": {
            "text/plain": [
              "row_id        0\n",
              "time          0\n",
              "x             0\n",
              "y             0\n",
              "direction     0\n",
              "congestion    0\n",
              "dtype: int64"
            ]
          },
          "metadata": {},
          "execution_count": 11
        }
      ],
      "source": [
        "train.isnull().sum()"
      ]
    },
    {
      "cell_type": "code",
      "execution_count": 12,
      "metadata": {
        "id": "73Z9lzmHBs_5"
      },
      "outputs": [],
      "source": [
        "lab_en=preprocessing.LabelEncoder()"
      ]
    },
    {
      "cell_type": "code",
      "execution_count": 13,
      "metadata": {
        "id": "gc-nT-SnBzpx"
      },
      "outputs": [],
      "source": [
        "train['direction']=lab_en.fit_transform(train['direction'])"
      ]
    },
    {
      "cell_type": "code",
      "execution_count": 14,
      "metadata": {
        "id": "Id9S5ovKC0k3"
      },
      "outputs": [],
      "source": [
        "def date_(x):\n",
        "  return x.split()[0]"
      ]
    },
    {
      "cell_type": "code",
      "execution_count": 15,
      "metadata": {
        "id": "_nRPXJSCEHrM"
      },
      "outputs": [],
      "source": [
        "train['dat']=train['time'].apply(date_)"
      ]
    },
    {
      "cell_type": "code",
      "execution_count": 16,
      "metadata": {
        "id": "HUxg0tqyCKAL"
      },
      "outputs": [],
      "source": [
        "def time_(x):\n",
        "  return x.split()[1]"
      ]
    },
    {
      "cell_type": "code",
      "execution_count": 17,
      "metadata": {
        "id": "TsM9nfVaCdBo"
      },
      "outputs": [],
      "source": [
        "train['time']=train['time'].apply(time_)"
      ]
    },
    {
      "cell_type": "code",
      "execution_count": 18,
      "metadata": {
        "id": "5IIe0ebMCgBT"
      },
      "outputs": [],
      "source": [
        "test['time']=test['time'].apply(time_)"
      ]
    },
    {
      "cell_type": "code",
      "execution_count": 19,
      "metadata": {
        "id": "RrLLavkDCiTy"
      },
      "outputs": [],
      "source": [
        "def hr_(x):\n",
        "  return int(x.split(':')[0])\n",
        "def min_(x):\n",
        "  return int(x.split(':')[1])"
      ]
    },
    {
      "cell_type": "code",
      "execution_count": 20,
      "metadata": {
        "id": "A5X-tT8BCr2E"
      },
      "outputs": [],
      "source": [
        "train['hour']=train['time'].apply(hr_)\n",
        "train['minutes']=train['time'].apply(min_)"
      ]
    },
    {
      "cell_type": "code",
      "execution_count": 21,
      "metadata": {
        "id": "fjaEiPl2CuFo"
      },
      "outputs": [],
      "source": [
        "test['hour']=test['time'].apply(hr_)\n",
        "test['minutes']=test['time'].apply(min_)"
      ]
    },
    {
      "cell_type": "code",
      "execution_count": 22,
      "metadata": {
        "colab": {
          "base_uri": "https://localhost:8080/",
          "height": 143
        },
        "id": "uGrBpta0CxU2",
        "outputId": "916e290b-2c2b-45dd-af20-b5e0474e2bac"
      },
      "outputs": [
        {
          "output_type": "execute_result",
          "data": {
            "text/plain": [
              "   row_id      time  x  y  direction  congestion         dat  hour  minutes\n",
              "0       0  00:00:00  0  0          0          70  1991-04-01     0        0\n",
              "1       1  00:00:00  0  0          1          49  1991-04-01     0        0\n",
              "2       2  00:00:00  0  0          4          24  1991-04-01     0        0"
            ],
            "text/html": [
              "\n",
              "  <div id=\"df-7b0aa7ec-5e44-4a2a-a9aa-639a69be1ed1\">\n",
              "    <div class=\"colab-df-container\">\n",
              "      <div>\n",
              "<style scoped>\n",
              "    .dataframe tbody tr th:only-of-type {\n",
              "        vertical-align: middle;\n",
              "    }\n",
              "\n",
              "    .dataframe tbody tr th {\n",
              "        vertical-align: top;\n",
              "    }\n",
              "\n",
              "    .dataframe thead th {\n",
              "        text-align: right;\n",
              "    }\n",
              "</style>\n",
              "<table border=\"1\" class=\"dataframe\">\n",
              "  <thead>\n",
              "    <tr style=\"text-align: right;\">\n",
              "      <th></th>\n",
              "      <th>row_id</th>\n",
              "      <th>time</th>\n",
              "      <th>x</th>\n",
              "      <th>y</th>\n",
              "      <th>direction</th>\n",
              "      <th>congestion</th>\n",
              "      <th>dat</th>\n",
              "      <th>hour</th>\n",
              "      <th>minutes</th>\n",
              "    </tr>\n",
              "  </thead>\n",
              "  <tbody>\n",
              "    <tr>\n",
              "      <th>0</th>\n",
              "      <td>0</td>\n",
              "      <td>00:00:00</td>\n",
              "      <td>0</td>\n",
              "      <td>0</td>\n",
              "      <td>0</td>\n",
              "      <td>70</td>\n",
              "      <td>1991-04-01</td>\n",
              "      <td>0</td>\n",
              "      <td>0</td>\n",
              "    </tr>\n",
              "    <tr>\n",
              "      <th>1</th>\n",
              "      <td>1</td>\n",
              "      <td>00:00:00</td>\n",
              "      <td>0</td>\n",
              "      <td>0</td>\n",
              "      <td>1</td>\n",
              "      <td>49</td>\n",
              "      <td>1991-04-01</td>\n",
              "      <td>0</td>\n",
              "      <td>0</td>\n",
              "    </tr>\n",
              "    <tr>\n",
              "      <th>2</th>\n",
              "      <td>2</td>\n",
              "      <td>00:00:00</td>\n",
              "      <td>0</td>\n",
              "      <td>0</td>\n",
              "      <td>4</td>\n",
              "      <td>24</td>\n",
              "      <td>1991-04-01</td>\n",
              "      <td>0</td>\n",
              "      <td>0</td>\n",
              "    </tr>\n",
              "  </tbody>\n",
              "</table>\n",
              "</div>\n",
              "      <button class=\"colab-df-convert\" onclick=\"convertToInteractive('df-7b0aa7ec-5e44-4a2a-a9aa-639a69be1ed1')\"\n",
              "              title=\"Convert this dataframe to an interactive table.\"\n",
              "              style=\"display:none;\">\n",
              "        \n",
              "  <svg xmlns=\"http://www.w3.org/2000/svg\" height=\"24px\"viewBox=\"0 0 24 24\"\n",
              "       width=\"24px\">\n",
              "    <path d=\"M0 0h24v24H0V0z\" fill=\"none\"/>\n",
              "    <path d=\"M18.56 5.44l.94 2.06.94-2.06 2.06-.94-2.06-.94-.94-2.06-.94 2.06-2.06.94zm-11 1L8.5 8.5l.94-2.06 2.06-.94-2.06-.94L8.5 2.5l-.94 2.06-2.06.94zm10 10l.94 2.06.94-2.06 2.06-.94-2.06-.94-.94-2.06-.94 2.06-2.06.94z\"/><path d=\"M17.41 7.96l-1.37-1.37c-.4-.4-.92-.59-1.43-.59-.52 0-1.04.2-1.43.59L10.3 9.45l-7.72 7.72c-.78.78-.78 2.05 0 2.83L4 21.41c.39.39.9.59 1.41.59.51 0 1.02-.2 1.41-.59l7.78-7.78 2.81-2.81c.8-.78.8-2.07 0-2.86zM5.41 20L4 18.59l7.72-7.72 1.47 1.35L5.41 20z\"/>\n",
              "  </svg>\n",
              "      </button>\n",
              "      \n",
              "  <style>\n",
              "    .colab-df-container {\n",
              "      display:flex;\n",
              "      flex-wrap:wrap;\n",
              "      gap: 12px;\n",
              "    }\n",
              "\n",
              "    .colab-df-convert {\n",
              "      background-color: #E8F0FE;\n",
              "      border: none;\n",
              "      border-radius: 50%;\n",
              "      cursor: pointer;\n",
              "      display: none;\n",
              "      fill: #1967D2;\n",
              "      height: 32px;\n",
              "      padding: 0 0 0 0;\n",
              "      width: 32px;\n",
              "    }\n",
              "\n",
              "    .colab-df-convert:hover {\n",
              "      background-color: #E2EBFA;\n",
              "      box-shadow: 0px 1px 2px rgba(60, 64, 67, 0.3), 0px 1px 3px 1px rgba(60, 64, 67, 0.15);\n",
              "      fill: #174EA6;\n",
              "    }\n",
              "\n",
              "    [theme=dark] .colab-df-convert {\n",
              "      background-color: #3B4455;\n",
              "      fill: #D2E3FC;\n",
              "    }\n",
              "\n",
              "    [theme=dark] .colab-df-convert:hover {\n",
              "      background-color: #434B5C;\n",
              "      box-shadow: 0px 1px 3px 1px rgba(0, 0, 0, 0.15);\n",
              "      filter: drop-shadow(0px 1px 2px rgba(0, 0, 0, 0.3));\n",
              "      fill: #FFFFFF;\n",
              "    }\n",
              "  </style>\n",
              "\n",
              "      <script>\n",
              "        const buttonEl =\n",
              "          document.querySelector('#df-7b0aa7ec-5e44-4a2a-a9aa-639a69be1ed1 button.colab-df-convert');\n",
              "        buttonEl.style.display =\n",
              "          google.colab.kernel.accessAllowed ? 'block' : 'none';\n",
              "\n",
              "        async function convertToInteractive(key) {\n",
              "          const element = document.querySelector('#df-7b0aa7ec-5e44-4a2a-a9aa-639a69be1ed1');\n",
              "          const dataTable =\n",
              "            await google.colab.kernel.invokeFunction('convertToInteractive',\n",
              "                                                     [key], {});\n",
              "          if (!dataTable) return;\n",
              "\n",
              "          const docLinkHtml = 'Like what you see? Visit the ' +\n",
              "            '<a target=\"_blank\" href=https://colab.research.google.com/notebooks/data_table.ipynb>data table notebook</a>'\n",
              "            + ' to learn more about interactive tables.';\n",
              "          element.innerHTML = '';\n",
              "          dataTable['output_type'] = 'display_data';\n",
              "          await google.colab.output.renderOutput(dataTable, element);\n",
              "          const docLink = document.createElement('div');\n",
              "          docLink.innerHTML = docLinkHtml;\n",
              "          element.appendChild(docLink);\n",
              "        }\n",
              "      </script>\n",
              "    </div>\n",
              "  </div>\n",
              "  "
            ]
          },
          "metadata": {},
          "execution_count": 22
        }
      ],
      "source": [
        "train.head(3)"
      ]
    },
    {
      "cell_type": "code",
      "execution_count": 23,
      "metadata": {
        "colab": {
          "base_uri": "https://localhost:8080/",
          "height": 143
        },
        "id": "Il5V0jL7ELb4",
        "outputId": "c15ea856-10f3-492b-8bbd-60d4c958bb1e"
      },
      "outputs": [
        {
          "output_type": "execute_result",
          "data": {
            "text/plain": [
              "   row_id      time  x  y  direction  congestion         dat  hour  minutes\n",
              "0       0  00:00:00  0  0          0          70  1991-04-01     0        0\n",
              "1       1  00:00:00  0  0          1          49  1991-04-01     0        0\n",
              "2       2  00:00:00  0  0          4          24  1991-04-01     0        0"
            ],
            "text/html": [
              "\n",
              "  <div id=\"df-7f33999b-2291-4083-8c0e-582e78766c20\">\n",
              "    <div class=\"colab-df-container\">\n",
              "      <div>\n",
              "<style scoped>\n",
              "    .dataframe tbody tr th:only-of-type {\n",
              "        vertical-align: middle;\n",
              "    }\n",
              "\n",
              "    .dataframe tbody tr th {\n",
              "        vertical-align: top;\n",
              "    }\n",
              "\n",
              "    .dataframe thead th {\n",
              "        text-align: right;\n",
              "    }\n",
              "</style>\n",
              "<table border=\"1\" class=\"dataframe\">\n",
              "  <thead>\n",
              "    <tr style=\"text-align: right;\">\n",
              "      <th></th>\n",
              "      <th>row_id</th>\n",
              "      <th>time</th>\n",
              "      <th>x</th>\n",
              "      <th>y</th>\n",
              "      <th>direction</th>\n",
              "      <th>congestion</th>\n",
              "      <th>dat</th>\n",
              "      <th>hour</th>\n",
              "      <th>minutes</th>\n",
              "    </tr>\n",
              "  </thead>\n",
              "  <tbody>\n",
              "    <tr>\n",
              "      <th>0</th>\n",
              "      <td>0</td>\n",
              "      <td>00:00:00</td>\n",
              "      <td>0</td>\n",
              "      <td>0</td>\n",
              "      <td>0</td>\n",
              "      <td>70</td>\n",
              "      <td>1991-04-01</td>\n",
              "      <td>0</td>\n",
              "      <td>0</td>\n",
              "    </tr>\n",
              "    <tr>\n",
              "      <th>1</th>\n",
              "      <td>1</td>\n",
              "      <td>00:00:00</td>\n",
              "      <td>0</td>\n",
              "      <td>0</td>\n",
              "      <td>1</td>\n",
              "      <td>49</td>\n",
              "      <td>1991-04-01</td>\n",
              "      <td>0</td>\n",
              "      <td>0</td>\n",
              "    </tr>\n",
              "    <tr>\n",
              "      <th>2</th>\n",
              "      <td>2</td>\n",
              "      <td>00:00:00</td>\n",
              "      <td>0</td>\n",
              "      <td>0</td>\n",
              "      <td>4</td>\n",
              "      <td>24</td>\n",
              "      <td>1991-04-01</td>\n",
              "      <td>0</td>\n",
              "      <td>0</td>\n",
              "    </tr>\n",
              "  </tbody>\n",
              "</table>\n",
              "</div>\n",
              "      <button class=\"colab-df-convert\" onclick=\"convertToInteractive('df-7f33999b-2291-4083-8c0e-582e78766c20')\"\n",
              "              title=\"Convert this dataframe to an interactive table.\"\n",
              "              style=\"display:none;\">\n",
              "        \n",
              "  <svg xmlns=\"http://www.w3.org/2000/svg\" height=\"24px\"viewBox=\"0 0 24 24\"\n",
              "       width=\"24px\">\n",
              "    <path d=\"M0 0h24v24H0V0z\" fill=\"none\"/>\n",
              "    <path d=\"M18.56 5.44l.94 2.06.94-2.06 2.06-.94-2.06-.94-.94-2.06-.94 2.06-2.06.94zm-11 1L8.5 8.5l.94-2.06 2.06-.94-2.06-.94L8.5 2.5l-.94 2.06-2.06.94zm10 10l.94 2.06.94-2.06 2.06-.94-2.06-.94-.94-2.06-.94 2.06-2.06.94z\"/><path d=\"M17.41 7.96l-1.37-1.37c-.4-.4-.92-.59-1.43-.59-.52 0-1.04.2-1.43.59L10.3 9.45l-7.72 7.72c-.78.78-.78 2.05 0 2.83L4 21.41c.39.39.9.59 1.41.59.51 0 1.02-.2 1.41-.59l7.78-7.78 2.81-2.81c.8-.78.8-2.07 0-2.86zM5.41 20L4 18.59l7.72-7.72 1.47 1.35L5.41 20z\"/>\n",
              "  </svg>\n",
              "      </button>\n",
              "      \n",
              "  <style>\n",
              "    .colab-df-container {\n",
              "      display:flex;\n",
              "      flex-wrap:wrap;\n",
              "      gap: 12px;\n",
              "    }\n",
              "\n",
              "    .colab-df-convert {\n",
              "      background-color: #E8F0FE;\n",
              "      border: none;\n",
              "      border-radius: 50%;\n",
              "      cursor: pointer;\n",
              "      display: none;\n",
              "      fill: #1967D2;\n",
              "      height: 32px;\n",
              "      padding: 0 0 0 0;\n",
              "      width: 32px;\n",
              "    }\n",
              "\n",
              "    .colab-df-convert:hover {\n",
              "      background-color: #E2EBFA;\n",
              "      box-shadow: 0px 1px 2px rgba(60, 64, 67, 0.3), 0px 1px 3px 1px rgba(60, 64, 67, 0.15);\n",
              "      fill: #174EA6;\n",
              "    }\n",
              "\n",
              "    [theme=dark] .colab-df-convert {\n",
              "      background-color: #3B4455;\n",
              "      fill: #D2E3FC;\n",
              "    }\n",
              "\n",
              "    [theme=dark] .colab-df-convert:hover {\n",
              "      background-color: #434B5C;\n",
              "      box-shadow: 0px 1px 3px 1px rgba(0, 0, 0, 0.15);\n",
              "      filter: drop-shadow(0px 1px 2px rgba(0, 0, 0, 0.3));\n",
              "      fill: #FFFFFF;\n",
              "    }\n",
              "  </style>\n",
              "\n",
              "      <script>\n",
              "        const buttonEl =\n",
              "          document.querySelector('#df-7f33999b-2291-4083-8c0e-582e78766c20 button.colab-df-convert');\n",
              "        buttonEl.style.display =\n",
              "          google.colab.kernel.accessAllowed ? 'block' : 'none';\n",
              "\n",
              "        async function convertToInteractive(key) {\n",
              "          const element = document.querySelector('#df-7f33999b-2291-4083-8c0e-582e78766c20');\n",
              "          const dataTable =\n",
              "            await google.colab.kernel.invokeFunction('convertToInteractive',\n",
              "                                                     [key], {});\n",
              "          if (!dataTable) return;\n",
              "\n",
              "          const docLinkHtml = 'Like what you see? Visit the ' +\n",
              "            '<a target=\"_blank\" href=https://colab.research.google.com/notebooks/data_table.ipynb>data table notebook</a>'\n",
              "            + ' to learn more about interactive tables.';\n",
              "          element.innerHTML = '';\n",
              "          dataTable['output_type'] = 'display_data';\n",
              "          await google.colab.output.renderOutput(dataTable, element);\n",
              "          const docLink = document.createElement('div');\n",
              "          docLink.innerHTML = docLinkHtml;\n",
              "          element.appendChild(docLink);\n",
              "        }\n",
              "      </script>\n",
              "    </div>\n",
              "  </div>\n",
              "  "
            ]
          },
          "metadata": {},
          "execution_count": 23
        }
      ],
      "source": [
        "train.head(3)"
      ]
    },
    {
      "cell_type": "code",
      "execution_count": 24,
      "metadata": {
        "colab": {
          "base_uri": "https://localhost:8080/"
        },
        "id": "ldm18J5LYZ-G",
        "outputId": "e79d9488-3758-4d8b-da15-a800d85391c2"
      },
      "outputs": [
        {
          "output_type": "stream",
          "name": "stdout",
          "text": [
            "<class 'pandas.core.frame.DataFrame'>\n",
            "RangeIndex: 848835 entries, 0 to 848834\n",
            "Data columns (total 9 columns):\n",
            " #   Column      Non-Null Count   Dtype \n",
            "---  ------      --------------   ----- \n",
            " 0   row_id      848835 non-null  int64 \n",
            " 1   time        848835 non-null  object\n",
            " 2   x           848835 non-null  int64 \n",
            " 3   y           848835 non-null  int64 \n",
            " 4   direction   848835 non-null  int64 \n",
            " 5   congestion  848835 non-null  int64 \n",
            " 6   dat         848835 non-null  object\n",
            " 7   hour        848835 non-null  int64 \n",
            " 8   minutes     848835 non-null  int64 \n",
            "dtypes: int64(7), object(2)\n",
            "memory usage: 58.3+ MB\n"
          ]
        }
      ],
      "source": [
        "train.info()"
      ]
    },
    {
      "cell_type": "code",
      "execution_count": 25,
      "metadata": {
        "colab": {
          "base_uri": "https://localhost:8080/"
        },
        "id": "rz7VnI4YbJz_",
        "outputId": "049aa563-a59c-4bf9-f241-c7bcbfb25b10"
      },
      "outputs": [
        {
          "output_type": "execute_result",
          "data": {
            "text/plain": [
              "<bound method DataFrame.info of         row_id      time  x  y  direction  congestion         dat  hour  \\\n",
              "0            0  00:00:00  0  0          0          70  1991-04-01     0   \n",
              "1            1  00:00:00  0  0          1          49  1991-04-01     0   \n",
              "2            2  00:00:00  0  0          4          24  1991-04-01     0   \n",
              "3            3  00:00:00  0  1          0          18  1991-04-01     0   \n",
              "4            4  00:00:00  0  1          1          60  1991-04-01     0   \n",
              "...        ...       ... .. ..        ...         ...         ...   ...   \n",
              "848830  848830  11:40:00  2  3          1          54  1991-09-30    11   \n",
              "848831  848831  11:40:00  2  3          2          28  1991-09-30    11   \n",
              "848832  848832  11:40:00  2  3          4          68  1991-09-30    11   \n",
              "848833  848833  11:40:00  2  3          6          17  1991-09-30    11   \n",
              "848834  848834  11:40:00  2  3          7          24  1991-09-30    11   \n",
              "\n",
              "        minutes  \n",
              "0             0  \n",
              "1             0  \n",
              "2             0  \n",
              "3             0  \n",
              "4             0  \n",
              "...         ...  \n",
              "848830       40  \n",
              "848831       40  \n",
              "848832       40  \n",
              "848833       40  \n",
              "848834       40  \n",
              "\n",
              "[848835 rows x 9 columns]>"
            ]
          },
          "metadata": {},
          "execution_count": 25
        }
      ],
      "source": [
        "train.info "
      ]
    },
    {
      "cell_type": "code",
      "execution_count": 26,
      "metadata": {
        "id": "Ge4XuVeDd3oV"
      },
      "outputs": [],
      "source": [
        "train[\"dat\"] = pd.to_datetime(train[\"dat\"])"
      ]
    },
    {
      "cell_type": "code",
      "execution_count": 27,
      "metadata": {
        "id": "t-kqNn5-Ee_G"
      },
      "outputs": [],
      "source": [
        "from datetime import datetime\n",
        "train['dayOfWeek'] = train['dat'].dt.weekday"
      ]
    },
    {
      "cell_type": "code",
      "execution_count": 28,
      "metadata": {
        "colab": {
          "base_uri": "https://localhost:8080/",
          "height": 206
        },
        "id": "YCYJ5KqCYL-I",
        "outputId": "3aa261ac-44a9-422f-bae3-f379791f8624"
      },
      "outputs": [
        {
          "output_type": "execute_result",
          "data": {
            "text/plain": [
              "   row_id      time  x  y  direction  congestion        dat  hour  minutes  \\\n",
              "0       0  00:00:00  0  0          0          70 1991-04-01     0        0   \n",
              "1       1  00:00:00  0  0          1          49 1991-04-01     0        0   \n",
              "2       2  00:00:00  0  0          4          24 1991-04-01     0        0   \n",
              "3       3  00:00:00  0  1          0          18 1991-04-01     0        0   \n",
              "4       4  00:00:00  0  1          1          60 1991-04-01     0        0   \n",
              "\n",
              "   dayOfWeek  \n",
              "0          0  \n",
              "1          0  \n",
              "2          0  \n",
              "3          0  \n",
              "4          0  "
            ],
            "text/html": [
              "\n",
              "  <div id=\"df-e64ba377-b5a8-4be4-b7a9-7c5f262ec67a\">\n",
              "    <div class=\"colab-df-container\">\n",
              "      <div>\n",
              "<style scoped>\n",
              "    .dataframe tbody tr th:only-of-type {\n",
              "        vertical-align: middle;\n",
              "    }\n",
              "\n",
              "    .dataframe tbody tr th {\n",
              "        vertical-align: top;\n",
              "    }\n",
              "\n",
              "    .dataframe thead th {\n",
              "        text-align: right;\n",
              "    }\n",
              "</style>\n",
              "<table border=\"1\" class=\"dataframe\">\n",
              "  <thead>\n",
              "    <tr style=\"text-align: right;\">\n",
              "      <th></th>\n",
              "      <th>row_id</th>\n",
              "      <th>time</th>\n",
              "      <th>x</th>\n",
              "      <th>y</th>\n",
              "      <th>direction</th>\n",
              "      <th>congestion</th>\n",
              "      <th>dat</th>\n",
              "      <th>hour</th>\n",
              "      <th>minutes</th>\n",
              "      <th>dayOfWeek</th>\n",
              "    </tr>\n",
              "  </thead>\n",
              "  <tbody>\n",
              "    <tr>\n",
              "      <th>0</th>\n",
              "      <td>0</td>\n",
              "      <td>00:00:00</td>\n",
              "      <td>0</td>\n",
              "      <td>0</td>\n",
              "      <td>0</td>\n",
              "      <td>70</td>\n",
              "      <td>1991-04-01</td>\n",
              "      <td>0</td>\n",
              "      <td>0</td>\n",
              "      <td>0</td>\n",
              "    </tr>\n",
              "    <tr>\n",
              "      <th>1</th>\n",
              "      <td>1</td>\n",
              "      <td>00:00:00</td>\n",
              "      <td>0</td>\n",
              "      <td>0</td>\n",
              "      <td>1</td>\n",
              "      <td>49</td>\n",
              "      <td>1991-04-01</td>\n",
              "      <td>0</td>\n",
              "      <td>0</td>\n",
              "      <td>0</td>\n",
              "    </tr>\n",
              "    <tr>\n",
              "      <th>2</th>\n",
              "      <td>2</td>\n",
              "      <td>00:00:00</td>\n",
              "      <td>0</td>\n",
              "      <td>0</td>\n",
              "      <td>4</td>\n",
              "      <td>24</td>\n",
              "      <td>1991-04-01</td>\n",
              "      <td>0</td>\n",
              "      <td>0</td>\n",
              "      <td>0</td>\n",
              "    </tr>\n",
              "    <tr>\n",
              "      <th>3</th>\n",
              "      <td>3</td>\n",
              "      <td>00:00:00</td>\n",
              "      <td>0</td>\n",
              "      <td>1</td>\n",
              "      <td>0</td>\n",
              "      <td>18</td>\n",
              "      <td>1991-04-01</td>\n",
              "      <td>0</td>\n",
              "      <td>0</td>\n",
              "      <td>0</td>\n",
              "    </tr>\n",
              "    <tr>\n",
              "      <th>4</th>\n",
              "      <td>4</td>\n",
              "      <td>00:00:00</td>\n",
              "      <td>0</td>\n",
              "      <td>1</td>\n",
              "      <td>1</td>\n",
              "      <td>60</td>\n",
              "      <td>1991-04-01</td>\n",
              "      <td>0</td>\n",
              "      <td>0</td>\n",
              "      <td>0</td>\n",
              "    </tr>\n",
              "  </tbody>\n",
              "</table>\n",
              "</div>\n",
              "      <button class=\"colab-df-convert\" onclick=\"convertToInteractive('df-e64ba377-b5a8-4be4-b7a9-7c5f262ec67a')\"\n",
              "              title=\"Convert this dataframe to an interactive table.\"\n",
              "              style=\"display:none;\">\n",
              "        \n",
              "  <svg xmlns=\"http://www.w3.org/2000/svg\" height=\"24px\"viewBox=\"0 0 24 24\"\n",
              "       width=\"24px\">\n",
              "    <path d=\"M0 0h24v24H0V0z\" fill=\"none\"/>\n",
              "    <path d=\"M18.56 5.44l.94 2.06.94-2.06 2.06-.94-2.06-.94-.94-2.06-.94 2.06-2.06.94zm-11 1L8.5 8.5l.94-2.06 2.06-.94-2.06-.94L8.5 2.5l-.94 2.06-2.06.94zm10 10l.94 2.06.94-2.06 2.06-.94-2.06-.94-.94-2.06-.94 2.06-2.06.94z\"/><path d=\"M17.41 7.96l-1.37-1.37c-.4-.4-.92-.59-1.43-.59-.52 0-1.04.2-1.43.59L10.3 9.45l-7.72 7.72c-.78.78-.78 2.05 0 2.83L4 21.41c.39.39.9.59 1.41.59.51 0 1.02-.2 1.41-.59l7.78-7.78 2.81-2.81c.8-.78.8-2.07 0-2.86zM5.41 20L4 18.59l7.72-7.72 1.47 1.35L5.41 20z\"/>\n",
              "  </svg>\n",
              "      </button>\n",
              "      \n",
              "  <style>\n",
              "    .colab-df-container {\n",
              "      display:flex;\n",
              "      flex-wrap:wrap;\n",
              "      gap: 12px;\n",
              "    }\n",
              "\n",
              "    .colab-df-convert {\n",
              "      background-color: #E8F0FE;\n",
              "      border: none;\n",
              "      border-radius: 50%;\n",
              "      cursor: pointer;\n",
              "      display: none;\n",
              "      fill: #1967D2;\n",
              "      height: 32px;\n",
              "      padding: 0 0 0 0;\n",
              "      width: 32px;\n",
              "    }\n",
              "\n",
              "    .colab-df-convert:hover {\n",
              "      background-color: #E2EBFA;\n",
              "      box-shadow: 0px 1px 2px rgba(60, 64, 67, 0.3), 0px 1px 3px 1px rgba(60, 64, 67, 0.15);\n",
              "      fill: #174EA6;\n",
              "    }\n",
              "\n",
              "    [theme=dark] .colab-df-convert {\n",
              "      background-color: #3B4455;\n",
              "      fill: #D2E3FC;\n",
              "    }\n",
              "\n",
              "    [theme=dark] .colab-df-convert:hover {\n",
              "      background-color: #434B5C;\n",
              "      box-shadow: 0px 1px 3px 1px rgba(0, 0, 0, 0.15);\n",
              "      filter: drop-shadow(0px 1px 2px rgba(0, 0, 0, 0.3));\n",
              "      fill: #FFFFFF;\n",
              "    }\n",
              "  </style>\n",
              "\n",
              "      <script>\n",
              "        const buttonEl =\n",
              "          document.querySelector('#df-e64ba377-b5a8-4be4-b7a9-7c5f262ec67a button.colab-df-convert');\n",
              "        buttonEl.style.display =\n",
              "          google.colab.kernel.accessAllowed ? 'block' : 'none';\n",
              "\n",
              "        async function convertToInteractive(key) {\n",
              "          const element = document.querySelector('#df-e64ba377-b5a8-4be4-b7a9-7c5f262ec67a');\n",
              "          const dataTable =\n",
              "            await google.colab.kernel.invokeFunction('convertToInteractive',\n",
              "                                                     [key], {});\n",
              "          if (!dataTable) return;\n",
              "\n",
              "          const docLinkHtml = 'Like what you see? Visit the ' +\n",
              "            '<a target=\"_blank\" href=https://colab.research.google.com/notebooks/data_table.ipynb>data table notebook</a>'\n",
              "            + ' to learn more about interactive tables.';\n",
              "          element.innerHTML = '';\n",
              "          dataTable['output_type'] = 'display_data';\n",
              "          await google.colab.output.renderOutput(dataTable, element);\n",
              "          const docLink = document.createElement('div');\n",
              "          docLink.innerHTML = docLinkHtml;\n",
              "          element.appendChild(docLink);\n",
              "        }\n",
              "      </script>\n",
              "    </div>\n",
              "  </div>\n",
              "  "
            ]
          },
          "metadata": {},
          "execution_count": 28
        }
      ],
      "source": [
        "train.head()"
      ]
    },
    {
      "cell_type": "code",
      "execution_count": 29,
      "metadata": {
        "colab": {
          "base_uri": "https://localhost:8080/",
          "height": 206
        },
        "id": "JOGx3TJweeBW",
        "outputId": "06302865-4db4-471f-9347-548eecedd034"
      },
      "outputs": [
        {
          "output_type": "execute_result",
          "data": {
            "text/plain": [
              "        row_id      time  x  y  direction  congestion        dat  hour  \\\n",
              "848830  848830  11:40:00  2  3          1          54 1991-09-30    11   \n",
              "848831  848831  11:40:00  2  3          2          28 1991-09-30    11   \n",
              "848832  848832  11:40:00  2  3          4          68 1991-09-30    11   \n",
              "848833  848833  11:40:00  2  3          6          17 1991-09-30    11   \n",
              "848834  848834  11:40:00  2  3          7          24 1991-09-30    11   \n",
              "\n",
              "        minutes  dayOfWeek  \n",
              "848830       40          0  \n",
              "848831       40          0  \n",
              "848832       40          0  \n",
              "848833       40          0  \n",
              "848834       40          0  "
            ],
            "text/html": [
              "\n",
              "  <div id=\"df-5667c3ee-3105-4199-8d21-cc4c05b7951f\">\n",
              "    <div class=\"colab-df-container\">\n",
              "      <div>\n",
              "<style scoped>\n",
              "    .dataframe tbody tr th:only-of-type {\n",
              "        vertical-align: middle;\n",
              "    }\n",
              "\n",
              "    .dataframe tbody tr th {\n",
              "        vertical-align: top;\n",
              "    }\n",
              "\n",
              "    .dataframe thead th {\n",
              "        text-align: right;\n",
              "    }\n",
              "</style>\n",
              "<table border=\"1\" class=\"dataframe\">\n",
              "  <thead>\n",
              "    <tr style=\"text-align: right;\">\n",
              "      <th></th>\n",
              "      <th>row_id</th>\n",
              "      <th>time</th>\n",
              "      <th>x</th>\n",
              "      <th>y</th>\n",
              "      <th>direction</th>\n",
              "      <th>congestion</th>\n",
              "      <th>dat</th>\n",
              "      <th>hour</th>\n",
              "      <th>minutes</th>\n",
              "      <th>dayOfWeek</th>\n",
              "    </tr>\n",
              "  </thead>\n",
              "  <tbody>\n",
              "    <tr>\n",
              "      <th>848830</th>\n",
              "      <td>848830</td>\n",
              "      <td>11:40:00</td>\n",
              "      <td>2</td>\n",
              "      <td>3</td>\n",
              "      <td>1</td>\n",
              "      <td>54</td>\n",
              "      <td>1991-09-30</td>\n",
              "      <td>11</td>\n",
              "      <td>40</td>\n",
              "      <td>0</td>\n",
              "    </tr>\n",
              "    <tr>\n",
              "      <th>848831</th>\n",
              "      <td>848831</td>\n",
              "      <td>11:40:00</td>\n",
              "      <td>2</td>\n",
              "      <td>3</td>\n",
              "      <td>2</td>\n",
              "      <td>28</td>\n",
              "      <td>1991-09-30</td>\n",
              "      <td>11</td>\n",
              "      <td>40</td>\n",
              "      <td>0</td>\n",
              "    </tr>\n",
              "    <tr>\n",
              "      <th>848832</th>\n",
              "      <td>848832</td>\n",
              "      <td>11:40:00</td>\n",
              "      <td>2</td>\n",
              "      <td>3</td>\n",
              "      <td>4</td>\n",
              "      <td>68</td>\n",
              "      <td>1991-09-30</td>\n",
              "      <td>11</td>\n",
              "      <td>40</td>\n",
              "      <td>0</td>\n",
              "    </tr>\n",
              "    <tr>\n",
              "      <th>848833</th>\n",
              "      <td>848833</td>\n",
              "      <td>11:40:00</td>\n",
              "      <td>2</td>\n",
              "      <td>3</td>\n",
              "      <td>6</td>\n",
              "      <td>17</td>\n",
              "      <td>1991-09-30</td>\n",
              "      <td>11</td>\n",
              "      <td>40</td>\n",
              "      <td>0</td>\n",
              "    </tr>\n",
              "    <tr>\n",
              "      <th>848834</th>\n",
              "      <td>848834</td>\n",
              "      <td>11:40:00</td>\n",
              "      <td>2</td>\n",
              "      <td>3</td>\n",
              "      <td>7</td>\n",
              "      <td>24</td>\n",
              "      <td>1991-09-30</td>\n",
              "      <td>11</td>\n",
              "      <td>40</td>\n",
              "      <td>0</td>\n",
              "    </tr>\n",
              "  </tbody>\n",
              "</table>\n",
              "</div>\n",
              "      <button class=\"colab-df-convert\" onclick=\"convertToInteractive('df-5667c3ee-3105-4199-8d21-cc4c05b7951f')\"\n",
              "              title=\"Convert this dataframe to an interactive table.\"\n",
              "              style=\"display:none;\">\n",
              "        \n",
              "  <svg xmlns=\"http://www.w3.org/2000/svg\" height=\"24px\"viewBox=\"0 0 24 24\"\n",
              "       width=\"24px\">\n",
              "    <path d=\"M0 0h24v24H0V0z\" fill=\"none\"/>\n",
              "    <path d=\"M18.56 5.44l.94 2.06.94-2.06 2.06-.94-2.06-.94-.94-2.06-.94 2.06-2.06.94zm-11 1L8.5 8.5l.94-2.06 2.06-.94-2.06-.94L8.5 2.5l-.94 2.06-2.06.94zm10 10l.94 2.06.94-2.06 2.06-.94-2.06-.94-.94-2.06-.94 2.06-2.06.94z\"/><path d=\"M17.41 7.96l-1.37-1.37c-.4-.4-.92-.59-1.43-.59-.52 0-1.04.2-1.43.59L10.3 9.45l-7.72 7.72c-.78.78-.78 2.05 0 2.83L4 21.41c.39.39.9.59 1.41.59.51 0 1.02-.2 1.41-.59l7.78-7.78 2.81-2.81c.8-.78.8-2.07 0-2.86zM5.41 20L4 18.59l7.72-7.72 1.47 1.35L5.41 20z\"/>\n",
              "  </svg>\n",
              "      </button>\n",
              "      \n",
              "  <style>\n",
              "    .colab-df-container {\n",
              "      display:flex;\n",
              "      flex-wrap:wrap;\n",
              "      gap: 12px;\n",
              "    }\n",
              "\n",
              "    .colab-df-convert {\n",
              "      background-color: #E8F0FE;\n",
              "      border: none;\n",
              "      border-radius: 50%;\n",
              "      cursor: pointer;\n",
              "      display: none;\n",
              "      fill: #1967D2;\n",
              "      height: 32px;\n",
              "      padding: 0 0 0 0;\n",
              "      width: 32px;\n",
              "    }\n",
              "\n",
              "    .colab-df-convert:hover {\n",
              "      background-color: #E2EBFA;\n",
              "      box-shadow: 0px 1px 2px rgba(60, 64, 67, 0.3), 0px 1px 3px 1px rgba(60, 64, 67, 0.15);\n",
              "      fill: #174EA6;\n",
              "    }\n",
              "\n",
              "    [theme=dark] .colab-df-convert {\n",
              "      background-color: #3B4455;\n",
              "      fill: #D2E3FC;\n",
              "    }\n",
              "\n",
              "    [theme=dark] .colab-df-convert:hover {\n",
              "      background-color: #434B5C;\n",
              "      box-shadow: 0px 1px 3px 1px rgba(0, 0, 0, 0.15);\n",
              "      filter: drop-shadow(0px 1px 2px rgba(0, 0, 0, 0.3));\n",
              "      fill: #FFFFFF;\n",
              "    }\n",
              "  </style>\n",
              "\n",
              "      <script>\n",
              "        const buttonEl =\n",
              "          document.querySelector('#df-5667c3ee-3105-4199-8d21-cc4c05b7951f button.colab-df-convert');\n",
              "        buttonEl.style.display =\n",
              "          google.colab.kernel.accessAllowed ? 'block' : 'none';\n",
              "\n",
              "        async function convertToInteractive(key) {\n",
              "          const element = document.querySelector('#df-5667c3ee-3105-4199-8d21-cc4c05b7951f');\n",
              "          const dataTable =\n",
              "            await google.colab.kernel.invokeFunction('convertToInteractive',\n",
              "                                                     [key], {});\n",
              "          if (!dataTable) return;\n",
              "\n",
              "          const docLinkHtml = 'Like what you see? Visit the ' +\n",
              "            '<a target=\"_blank\" href=https://colab.research.google.com/notebooks/data_table.ipynb>data table notebook</a>'\n",
              "            + ' to learn more about interactive tables.';\n",
              "          element.innerHTML = '';\n",
              "          dataTable['output_type'] = 'display_data';\n",
              "          await google.colab.output.renderOutput(dataTable, element);\n",
              "          const docLink = document.createElement('div');\n",
              "          docLink.innerHTML = docLinkHtml;\n",
              "          element.appendChild(docLink);\n",
              "        }\n",
              "      </script>\n",
              "    </div>\n",
              "  </div>\n",
              "  "
            ]
          },
          "metadata": {},
          "execution_count": 29
        }
      ],
      "source": [
        "train.tail()"
      ]
    },
    {
      "cell_type": "code",
      "execution_count": 30,
      "metadata": {
        "id": "1UMKQqAYX5Cw"
      },
      "outputs": [],
      "source": [
        "x=train[[\"hour\",\"minutes\",\"dayOfWeek\"]]\n",
        "y=train[\"congestion\"]"
      ]
    },
    {
      "cell_type": "code",
      "execution_count": 31,
      "metadata": {
        "id": "xD565N0Ve9D4"
      },
      "outputs": [],
      "source": [
        "x_train,x_test,y_train,y_test=train_test_split(x,y,random_state=1,test_size=0.3) "
      ]
    },
    {
      "cell_type": "code",
      "execution_count": 51,
      "metadata": {
        "colab": {
          "base_uri": "https://localhost:8080/"
        },
        "id": "uR-HWWQSX3WO",
        "outputId": "39dc794d-5aac-46f4-d6d5-16e55b6cb726"
      },
      "outputs": [
        {
          "output_type": "stream",
          "name": "stdout",
          "text": [
            "[1]\tvalid_0's l1: 13.8411\n",
            "[2]\tvalid_0's l1: 13.8074\n",
            "[3]\tvalid_0's l1: 13.7759\n",
            "[4]\tvalid_0's l1: 13.748\n",
            "[5]\tvalid_0's l1: 13.7236\n",
            "[6]\tvalid_0's l1: 13.7009\n",
            "[7]\tvalid_0's l1: 13.6796\n",
            "[8]\tvalid_0's l1: 13.6605\n",
            "[9]\tvalid_0's l1: 13.6427\n",
            "[10]\tvalid_0's l1: 13.6264\n",
            "[11]\tvalid_0's l1: 13.6131\n",
            "[12]\tvalid_0's l1: 13.601\n",
            "[13]\tvalid_0's l1: 13.5896\n",
            "[14]\tvalid_0's l1: 13.5782\n",
            "[15]\tvalid_0's l1: 13.568\n",
            "[16]\tvalid_0's l1: 13.5587\n",
            "[17]\tvalid_0's l1: 13.5503\n",
            "[18]\tvalid_0's l1: 13.5428\n",
            "[19]\tvalid_0's l1: 13.536\n",
            "[20]\tvalid_0's l1: 13.5296\n",
            "[21]\tvalid_0's l1: 13.5239\n",
            "[22]\tvalid_0's l1: 13.5184\n",
            "[23]\tvalid_0's l1: 13.5137\n",
            "[24]\tvalid_0's l1: 13.509\n",
            "[25]\tvalid_0's l1: 13.505\n",
            "[26]\tvalid_0's l1: 13.5009\n",
            "[27]\tvalid_0's l1: 13.4975\n",
            "[28]\tvalid_0's l1: 13.4943\n",
            "[29]\tvalid_0's l1: 13.4914\n",
            "[30]\tvalid_0's l1: 13.4885\n",
            "[31]\tvalid_0's l1: 13.4861\n",
            "[32]\tvalid_0's l1: 13.484\n",
            "[33]\tvalid_0's l1: 13.4817\n",
            "[34]\tvalid_0's l1: 13.4797\n",
            "[35]\tvalid_0's l1: 13.4778\n",
            "[36]\tvalid_0's l1: 13.4762\n",
            "[37]\tvalid_0's l1: 13.4746\n",
            "[38]\tvalid_0's l1: 13.4731\n",
            "[39]\tvalid_0's l1: 13.4719\n",
            "[40]\tvalid_0's l1: 13.4705\n",
            "[41]\tvalid_0's l1: 13.4694\n",
            "[42]\tvalid_0's l1: 13.4684\n",
            "[43]\tvalid_0's l1: 13.4671\n",
            "[44]\tvalid_0's l1: 13.4663\n",
            "[45]\tvalid_0's l1: 13.4656\n",
            "[46]\tvalid_0's l1: 13.4647\n",
            "[47]\tvalid_0's l1: 13.4641\n",
            "[48]\tvalid_0's l1: 13.4633\n",
            "[49]\tvalid_0's l1: 13.4627\n",
            "[50]\tvalid_0's l1: 13.462\n",
            "13.462001501183067\n",
            "0.06260310952025716\n"
          ]
        }
      ],
      "source": [
        "lgb_params = {\n",
        "    \"objective\" : \"regression\",\n",
        "    \"metric\": \"mae\",\n",
        "    'boosting': \"gbdt\",  \n",
        "    \"learning_rate\": 0.05,\n",
        "    \"num_leaves\": 20, \n",
        "    \"max_depth\": 7,\n",
        "                   }\n",
        "def model_fit(x_train,y_train,x_test,y_test,test_df=None):\n",
        "   train_data = lgb.Dataset(x_train, label=y_train)\n",
        "   val_data = lgb.Dataset(x_test, label=y_test)\n",
        "   model1= lgb.train(params=lgb_params,\n",
        "                      train_set= train_data, \n",
        "                      valid_sets= [val_data], \n",
        "                      num_boost_round= 50,\n",
        "                     ) \n",
        "   train_preds =model1.predict(x_test)\n",
        "   mae = mean_absolute_error(y_test, train_preds)\n",
        "   print( mae)\n",
        "   print(r2_score(y_test, train_preds)) \n",
        "    \n",
        "   return train_preds, mae, model1\n",
        "\n",
        "train_preds,  mae ,model1= model_fit(x_train, y_train, x_test, y_test, None)"
      ]
    },
    {
      "cell_type": "code",
      "source": [
        "import pickle"
      ],
      "metadata": {
        "id": "mTXz8aHEQs-t"
      },
      "execution_count": 46,
      "outputs": []
    },
    {
      "cell_type": "code",
      "source": [
        "pickle.dump(model1, open('traffic_model.pkl', 'wb'))"
      ],
      "metadata": {
        "id": "DwJFKmKLQv6y"
      },
      "execution_count": 52,
      "outputs": []
    },
    {
      "cell_type": "code",
      "execution_count": 33,
      "metadata": {
        "colab": {
          "base_uri": "https://localhost:8080/"
        },
        "id": "rLYQi8tfzXlS",
        "outputId": "dee2954e-87e8-481c-9dea-00bc7bcbbeac"
      },
      "outputs": [
        {
          "output_type": "stream",
          "name": "stdout",
          "text": [
            "0:\tlearn: 16.7551907\ttotal: 129ms\tremaining: 12.8s\n",
            "1:\tlearn: 16.7176174\ttotal: 207ms\tremaining: 10.2s\n",
            "2:\tlearn: 16.6832019\ttotal: 287ms\tremaining: 9.29s\n",
            "3:\tlearn: 16.6512154\ttotal: 368ms\tremaining: 8.82s\n",
            "4:\tlearn: 16.6224551\ttotal: 440ms\tremaining: 8.36s\n",
            "5:\tlearn: 16.5968180\ttotal: 506ms\tremaining: 7.93s\n",
            "6:\tlearn: 16.5718294\ttotal: 582ms\tremaining: 7.73s\n",
            "7:\tlearn: 16.5490638\ttotal: 664ms\tremaining: 7.64s\n",
            "8:\tlearn: 16.5273530\ttotal: 746ms\tremaining: 7.54s\n",
            "9:\tlearn: 16.5071564\ttotal: 831ms\tremaining: 7.47s\n",
            "10:\tlearn: 16.4880762\ttotal: 915ms\tremaining: 7.4s\n",
            "11:\tlearn: 16.4707620\ttotal: 987ms\tremaining: 7.24s\n",
            "12:\tlearn: 16.4545247\ttotal: 1.06s\tremaining: 7.12s\n",
            "13:\tlearn: 16.4397018\ttotal: 1.14s\tremaining: 6.97s\n",
            "14:\tlearn: 16.4265719\ttotal: 1.21s\tremaining: 6.83s\n",
            "15:\tlearn: 16.4137025\ttotal: 1.28s\tremaining: 6.71s\n",
            "16:\tlearn: 16.4017341\ttotal: 1.35s\tremaining: 6.6s\n",
            "17:\tlearn: 16.3906335\ttotal: 1.42s\tremaining: 6.49s\n",
            "18:\tlearn: 16.3801328\ttotal: 1.5s\tremaining: 6.39s\n",
            "19:\tlearn: 16.3709447\ttotal: 1.57s\tremaining: 6.29s\n",
            "20:\tlearn: 16.3620746\ttotal: 1.66s\tremaining: 6.24s\n",
            "21:\tlearn: 16.3539183\ttotal: 1.73s\tremaining: 6.15s\n",
            "22:\tlearn: 16.3461350\ttotal: 1.81s\tremaining: 6.05s\n",
            "23:\tlearn: 16.3394261\ttotal: 1.88s\tremaining: 5.95s\n",
            "24:\tlearn: 16.3337089\ttotal: 1.94s\tremaining: 5.82s\n",
            "25:\tlearn: 16.3279634\ttotal: 2s\tremaining: 5.69s\n",
            "26:\tlearn: 16.3223625\ttotal: 2.07s\tremaining: 5.59s\n",
            "27:\tlearn: 16.3168839\ttotal: 2.14s\tremaining: 5.5s\n",
            "28:\tlearn: 16.3117852\ttotal: 2.21s\tremaining: 5.42s\n",
            "29:\tlearn: 16.3069620\ttotal: 2.28s\tremaining: 5.33s\n",
            "30:\tlearn: 16.3025722\ttotal: 2.36s\tremaining: 5.25s\n",
            "31:\tlearn: 16.2986270\ttotal: 2.43s\tremaining: 5.17s\n",
            "32:\tlearn: 16.2947045\ttotal: 2.5s\tremaining: 5.08s\n",
            "33:\tlearn: 16.2916073\ttotal: 2.58s\tremaining: 5s\n",
            "34:\tlearn: 16.2883183\ttotal: 2.67s\tremaining: 4.95s\n",
            "35:\tlearn: 16.2852278\ttotal: 2.74s\tremaining: 4.87s\n",
            "36:\tlearn: 16.2825448\ttotal: 2.81s\tremaining: 4.79s\n",
            "37:\tlearn: 16.2800729\ttotal: 2.89s\tremaining: 4.71s\n",
            "38:\tlearn: 16.2776516\ttotal: 2.96s\tremaining: 4.63s\n",
            "39:\tlearn: 16.2755881\ttotal: 3.03s\tremaining: 4.55s\n",
            "40:\tlearn: 16.2736440\ttotal: 3.11s\tremaining: 4.47s\n",
            "41:\tlearn: 16.2715724\ttotal: 3.18s\tremaining: 4.39s\n",
            "42:\tlearn: 16.2695756\ttotal: 3.25s\tremaining: 4.31s\n",
            "43:\tlearn: 16.2678057\ttotal: 3.32s\tremaining: 4.23s\n",
            "44:\tlearn: 16.2661438\ttotal: 3.4s\tremaining: 4.15s\n",
            "45:\tlearn: 16.2646441\ttotal: 3.46s\tremaining: 4.07s\n",
            "46:\tlearn: 16.2630408\ttotal: 3.54s\tremaining: 3.99s\n",
            "47:\tlearn: 16.2620472\ttotal: 3.6s\tremaining: 3.9s\n",
            "48:\tlearn: 16.2608509\ttotal: 3.68s\tremaining: 3.83s\n",
            "49:\tlearn: 16.2596368\ttotal: 3.76s\tremaining: 3.76s\n",
            "50:\tlearn: 16.2585479\ttotal: 3.83s\tremaining: 3.68s\n",
            "51:\tlearn: 16.2575327\ttotal: 3.89s\tremaining: 3.59s\n",
            "52:\tlearn: 16.2567782\ttotal: 3.94s\tremaining: 3.5s\n",
            "53:\tlearn: 16.2558422\ttotal: 4.03s\tremaining: 3.43s\n",
            "54:\tlearn: 16.2550270\ttotal: 4.1s\tremaining: 3.36s\n",
            "55:\tlearn: 16.2542277\ttotal: 4.18s\tremaining: 3.29s\n",
            "56:\tlearn: 16.2533858\ttotal: 4.26s\tremaining: 3.21s\n",
            "57:\tlearn: 16.2527521\ttotal: 4.33s\tremaining: 3.14s\n",
            "58:\tlearn: 16.2521026\ttotal: 4.41s\tremaining: 3.06s\n",
            "59:\tlearn: 16.2514276\ttotal: 4.49s\tremaining: 2.99s\n",
            "60:\tlearn: 16.2507651\ttotal: 4.56s\tremaining: 2.92s\n",
            "61:\tlearn: 16.2501715\ttotal: 4.63s\tremaining: 2.84s\n",
            "62:\tlearn: 16.2497366\ttotal: 4.71s\tremaining: 2.77s\n",
            "63:\tlearn: 16.2491468\ttotal: 4.78s\tremaining: 2.69s\n",
            "64:\tlearn: 16.2486056\ttotal: 4.85s\tremaining: 2.61s\n",
            "65:\tlearn: 16.2481511\ttotal: 4.93s\tremaining: 2.54s\n",
            "66:\tlearn: 16.2476306\ttotal: 5s\tremaining: 2.46s\n",
            "67:\tlearn: 16.2473793\ttotal: 5.05s\tremaining: 2.38s\n",
            "68:\tlearn: 16.2472455\ttotal: 5.09s\tremaining: 2.29s\n",
            "69:\tlearn: 16.2467758\ttotal: 5.17s\tremaining: 2.21s\n",
            "70:\tlearn: 16.2463380\ttotal: 5.24s\tremaining: 2.14s\n",
            "71:\tlearn: 16.2460652\ttotal: 5.31s\tremaining: 2.06s\n",
            "72:\tlearn: 16.2457532\ttotal: 5.38s\tremaining: 1.99s\n",
            "73:\tlearn: 16.2453291\ttotal: 5.45s\tremaining: 1.92s\n",
            "74:\tlearn: 16.2450030\ttotal: 5.52s\tremaining: 1.84s\n",
            "75:\tlearn: 16.2447099\ttotal: 5.6s\tremaining: 1.77s\n",
            "76:\tlearn: 16.2445742\ttotal: 5.65s\tremaining: 1.69s\n",
            "77:\tlearn: 16.2444781\ttotal: 5.71s\tremaining: 1.61s\n",
            "78:\tlearn: 16.2442759\ttotal: 5.77s\tremaining: 1.53s\n",
            "79:\tlearn: 16.2440207\ttotal: 5.84s\tremaining: 1.46s\n",
            "80:\tlearn: 16.2437543\ttotal: 5.92s\tremaining: 1.39s\n",
            "81:\tlearn: 16.2434469\ttotal: 5.99s\tremaining: 1.31s\n",
            "82:\tlearn: 16.2432532\ttotal: 6.07s\tremaining: 1.24s\n",
            "83:\tlearn: 16.2430134\ttotal: 6.14s\tremaining: 1.17s\n",
            "84:\tlearn: 16.2428162\ttotal: 6.21s\tremaining: 1.09s\n",
            "85:\tlearn: 16.2425851\ttotal: 6.28s\tremaining: 1.02s\n",
            "86:\tlearn: 16.2424392\ttotal: 6.33s\tremaining: 947ms\n",
            "87:\tlearn: 16.2422048\ttotal: 6.41s\tremaining: 873ms\n",
            "88:\tlearn: 16.2419351\ttotal: 6.48s\tremaining: 800ms\n",
            "89:\tlearn: 16.2417108\ttotal: 6.55s\tremaining: 728ms\n",
            "90:\tlearn: 16.2414965\ttotal: 6.62s\tremaining: 655ms\n",
            "91:\tlearn: 16.2413382\ttotal: 6.71s\tremaining: 583ms\n",
            "92:\tlearn: 16.2411400\ttotal: 6.78s\tremaining: 511ms\n",
            "93:\tlearn: 16.2409304\ttotal: 6.85s\tremaining: 437ms\n",
            "94:\tlearn: 16.2407711\ttotal: 6.92s\tremaining: 364ms\n",
            "95:\tlearn: 16.2406192\ttotal: 7s\tremaining: 292ms\n",
            "96:\tlearn: 16.2404816\ttotal: 7.07s\tremaining: 219ms\n",
            "97:\tlearn: 16.2404356\ttotal: 7.12s\tremaining: 145ms\n",
            "98:\tlearn: 16.2403520\ttotal: 7.17s\tremaining: 72.4ms\n",
            "99:\tlearn: 16.2402630\ttotal: 7.23s\tremaining: 0us\n",
            "\n",
            " The best estimator across ALL searched params:\n",
            " <catboost.core.CatBoostRegressor object at 0x7f8a0599d650>\n",
            "\n",
            " The best score across ALL searched params:\n",
            " 0.06426309441619088\n",
            "\n",
            " The best parameters across ALL searched params:\n",
            " {'depth': 10, 'iterations': 100, 'learning_rate': 0.04}\n"
          ]
        }
      ],
      "source": [
        "CBC = CatBoostRegressor()\n",
        "parameters = {'depth'         : [4,5,6,7,8,9, 10],'learning_rate' : [0.01,0.02,0.03,0.04],'iterations': [10, 20,30,40,50,60,70,80,90, 100]}\n",
        "Grid_CBC = GridSearchCV(estimator=CBC, param_grid = parameters, cv = 2, n_jobs=-1)\n",
        "Grid_CBC.fit(x_train, y_train)\n",
        "print(\"\\n The best estimator across ALL searched params:\\n\",Grid_CBC.best_estimator_)\n",
        "print(\"\\n The best score across ALL searched params:\\n\",Grid_CBC.best_score_)\n",
        "print(\"\\n The best parameters across ALL searched params:\\n\",Grid_CBC.best_params_)"
      ]
    },
    {
      "cell_type": "code",
      "execution_count": 33,
      "metadata": {
        "id": "EIELD91H53e3"
      },
      "outputs": [],
      "source": [
        ""
      ]
    },
    {
      "cell_type": "code",
      "execution_count": 34,
      "metadata": {
        "colab": {
          "base_uri": "https://localhost:8080/",
          "height": 398
        },
        "id": "2D6MSaIxaj4e",
        "outputId": "2810f266-f4b1-4d8a-becd-de1a927be415"
      },
      "outputs": [
        {
          "output_type": "stream",
          "name": "stdout",
          "text": [
            "Fitting 2 folds for each of 9 candidates, totalling 18 fits\n"
          ]
        },
        {
          "output_type": "error",
          "ename": "KeyboardInterrupt",
          "evalue": "ignored",
          "traceback": [
            "\u001b[0;31m---------------------------------------------------------------------------\u001b[0m",
            "\u001b[0;31mKeyboardInterrupt\u001b[0m                         Traceback (most recent call last)",
            "\u001b[0;32m<ipython-input-34-1a723bb6c8e4>\u001b[0m in \u001b[0;36m<module>\u001b[0;34m()\u001b[0m\n\u001b[1;32m     18\u001b[0m \u001b[0;34m\u001b[0m\u001b[0m\n\u001b[1;32m     19\u001b[0m xgb_grid.fit(x_train,\n\u001b[0;32m---> 20\u001b[0;31m          y_train)\n\u001b[0m\u001b[1;32m     21\u001b[0m \u001b[0;34m\u001b[0m\u001b[0m\n\u001b[1;32m     22\u001b[0m \u001b[0mprint\u001b[0m\u001b[0;34m(\u001b[0m\u001b[0mxgb_grid\u001b[0m\u001b[0;34m.\u001b[0m\u001b[0mbest_score_\u001b[0m\u001b[0;34m)\u001b[0m\u001b[0;34m\u001b[0m\u001b[0;34m\u001b[0m\u001b[0m\n",
            "\u001b[0;32m/usr/local/lib/python3.7/dist-packages/sklearn/model_selection/_search.py\u001b[0m in \u001b[0;36mfit\u001b[0;34m(self, X, y, groups, **fit_params)\u001b[0m\n\u001b[1;32m    889\u001b[0m                 \u001b[0;32mreturn\u001b[0m \u001b[0mresults\u001b[0m\u001b[0;34m\u001b[0m\u001b[0;34m\u001b[0m\u001b[0m\n\u001b[1;32m    890\u001b[0m \u001b[0;34m\u001b[0m\u001b[0m\n\u001b[0;32m--> 891\u001b[0;31m             \u001b[0mself\u001b[0m\u001b[0;34m.\u001b[0m\u001b[0m_run_search\u001b[0m\u001b[0;34m(\u001b[0m\u001b[0mevaluate_candidates\u001b[0m\u001b[0;34m)\u001b[0m\u001b[0;34m\u001b[0m\u001b[0;34m\u001b[0m\u001b[0m\n\u001b[0m\u001b[1;32m    892\u001b[0m \u001b[0;34m\u001b[0m\u001b[0m\n\u001b[1;32m    893\u001b[0m             \u001b[0;31m# multimetric is determined here because in the case of a callable\u001b[0m\u001b[0;34m\u001b[0m\u001b[0;34m\u001b[0m\u001b[0;34m\u001b[0m\u001b[0m\n",
            "\u001b[0;32m/usr/local/lib/python3.7/dist-packages/sklearn/model_selection/_search.py\u001b[0m in \u001b[0;36m_run_search\u001b[0;34m(self, evaluate_candidates)\u001b[0m\n\u001b[1;32m   1390\u001b[0m     \u001b[0;32mdef\u001b[0m \u001b[0m_run_search\u001b[0m\u001b[0;34m(\u001b[0m\u001b[0mself\u001b[0m\u001b[0;34m,\u001b[0m \u001b[0mevaluate_candidates\u001b[0m\u001b[0;34m)\u001b[0m\u001b[0;34m:\u001b[0m\u001b[0;34m\u001b[0m\u001b[0;34m\u001b[0m\u001b[0m\n\u001b[1;32m   1391\u001b[0m         \u001b[0;34m\"\"\"Search all candidates in param_grid\"\"\"\u001b[0m\u001b[0;34m\u001b[0m\u001b[0;34m\u001b[0m\u001b[0m\n\u001b[0;32m-> 1392\u001b[0;31m         \u001b[0mevaluate_candidates\u001b[0m\u001b[0;34m(\u001b[0m\u001b[0mParameterGrid\u001b[0m\u001b[0;34m(\u001b[0m\u001b[0mself\u001b[0m\u001b[0;34m.\u001b[0m\u001b[0mparam_grid\u001b[0m\u001b[0;34m)\u001b[0m\u001b[0;34m)\u001b[0m\u001b[0;34m\u001b[0m\u001b[0;34m\u001b[0m\u001b[0m\n\u001b[0m\u001b[1;32m   1393\u001b[0m \u001b[0;34m\u001b[0m\u001b[0m\n\u001b[1;32m   1394\u001b[0m \u001b[0;34m\u001b[0m\u001b[0m\n",
            "\u001b[0;32m/usr/local/lib/python3.7/dist-packages/sklearn/model_selection/_search.py\u001b[0m in \u001b[0;36mevaluate_candidates\u001b[0;34m(candidate_params, cv, more_results)\u001b[0m\n\u001b[1;32m    849\u001b[0m                     )\n\u001b[1;32m    850\u001b[0m                     for (cand_idx, parameters), (split_idx, (train, test)) in product(\n\u001b[0;32m--> 851\u001b[0;31m                         \u001b[0menumerate\u001b[0m\u001b[0;34m(\u001b[0m\u001b[0mcandidate_params\u001b[0m\u001b[0;34m)\u001b[0m\u001b[0;34m,\u001b[0m \u001b[0menumerate\u001b[0m\u001b[0;34m(\u001b[0m\u001b[0mcv\u001b[0m\u001b[0;34m.\u001b[0m\u001b[0msplit\u001b[0m\u001b[0;34m(\u001b[0m\u001b[0mX\u001b[0m\u001b[0;34m,\u001b[0m \u001b[0my\u001b[0m\u001b[0;34m,\u001b[0m \u001b[0mgroups\u001b[0m\u001b[0;34m)\u001b[0m\u001b[0;34m)\u001b[0m\u001b[0;34m\u001b[0m\u001b[0;34m\u001b[0m\u001b[0m\n\u001b[0m\u001b[1;32m    852\u001b[0m                     )\n\u001b[1;32m    853\u001b[0m                 )\n",
            "\u001b[0;32m/usr/local/lib/python3.7/dist-packages/joblib/parallel.py\u001b[0m in \u001b[0;36m__call__\u001b[0;34m(self, iterable)\u001b[0m\n\u001b[1;32m   1054\u001b[0m \u001b[0;34m\u001b[0m\u001b[0m\n\u001b[1;32m   1055\u001b[0m             \u001b[0;32mwith\u001b[0m \u001b[0mself\u001b[0m\u001b[0;34m.\u001b[0m\u001b[0m_backend\u001b[0m\u001b[0;34m.\u001b[0m\u001b[0mretrieval_context\u001b[0m\u001b[0;34m(\u001b[0m\u001b[0;34m)\u001b[0m\u001b[0;34m:\u001b[0m\u001b[0;34m\u001b[0m\u001b[0;34m\u001b[0m\u001b[0m\n\u001b[0;32m-> 1056\u001b[0;31m                 \u001b[0mself\u001b[0m\u001b[0;34m.\u001b[0m\u001b[0mretrieve\u001b[0m\u001b[0;34m(\u001b[0m\u001b[0;34m)\u001b[0m\u001b[0;34m\u001b[0m\u001b[0;34m\u001b[0m\u001b[0m\n\u001b[0m\u001b[1;32m   1057\u001b[0m             \u001b[0;31m# Make sure that we get a last message telling us we are done\u001b[0m\u001b[0;34m\u001b[0m\u001b[0;34m\u001b[0m\u001b[0;34m\u001b[0m\u001b[0m\n\u001b[1;32m   1058\u001b[0m             \u001b[0melapsed_time\u001b[0m \u001b[0;34m=\u001b[0m \u001b[0mtime\u001b[0m\u001b[0;34m.\u001b[0m\u001b[0mtime\u001b[0m\u001b[0;34m(\u001b[0m\u001b[0;34m)\u001b[0m \u001b[0;34m-\u001b[0m \u001b[0mself\u001b[0m\u001b[0;34m.\u001b[0m\u001b[0m_start_time\u001b[0m\u001b[0;34m\u001b[0m\u001b[0;34m\u001b[0m\u001b[0m\n",
            "\u001b[0;32m/usr/local/lib/python3.7/dist-packages/joblib/parallel.py\u001b[0m in \u001b[0;36mretrieve\u001b[0;34m(self)\u001b[0m\n\u001b[1;32m    933\u001b[0m             \u001b[0;32mtry\u001b[0m\u001b[0;34m:\u001b[0m\u001b[0;34m\u001b[0m\u001b[0;34m\u001b[0m\u001b[0m\n\u001b[1;32m    934\u001b[0m                 \u001b[0;32mif\u001b[0m \u001b[0mgetattr\u001b[0m\u001b[0;34m(\u001b[0m\u001b[0mself\u001b[0m\u001b[0;34m.\u001b[0m\u001b[0m_backend\u001b[0m\u001b[0;34m,\u001b[0m \u001b[0;34m'supports_timeout'\u001b[0m\u001b[0;34m,\u001b[0m \u001b[0;32mFalse\u001b[0m\u001b[0;34m)\u001b[0m\u001b[0;34m:\u001b[0m\u001b[0;34m\u001b[0m\u001b[0;34m\u001b[0m\u001b[0m\n\u001b[0;32m--> 935\u001b[0;31m                     \u001b[0mself\u001b[0m\u001b[0;34m.\u001b[0m\u001b[0m_output\u001b[0m\u001b[0;34m.\u001b[0m\u001b[0mextend\u001b[0m\u001b[0;34m(\u001b[0m\u001b[0mjob\u001b[0m\u001b[0;34m.\u001b[0m\u001b[0mget\u001b[0m\u001b[0;34m(\u001b[0m\u001b[0mtimeout\u001b[0m\u001b[0;34m=\u001b[0m\u001b[0mself\u001b[0m\u001b[0;34m.\u001b[0m\u001b[0mtimeout\u001b[0m\u001b[0;34m)\u001b[0m\u001b[0;34m)\u001b[0m\u001b[0;34m\u001b[0m\u001b[0;34m\u001b[0m\u001b[0m\n\u001b[0m\u001b[1;32m    936\u001b[0m                 \u001b[0;32melse\u001b[0m\u001b[0;34m:\u001b[0m\u001b[0;34m\u001b[0m\u001b[0;34m\u001b[0m\u001b[0m\n\u001b[1;32m    937\u001b[0m                     \u001b[0mself\u001b[0m\u001b[0;34m.\u001b[0m\u001b[0m_output\u001b[0m\u001b[0;34m.\u001b[0m\u001b[0mextend\u001b[0m\u001b[0;34m(\u001b[0m\u001b[0mjob\u001b[0m\u001b[0;34m.\u001b[0m\u001b[0mget\u001b[0m\u001b[0;34m(\u001b[0m\u001b[0;34m)\u001b[0m\u001b[0;34m)\u001b[0m\u001b[0;34m\u001b[0m\u001b[0;34m\u001b[0m\u001b[0m\n",
            "\u001b[0;32m/usr/local/lib/python3.7/dist-packages/joblib/_parallel_backends.py\u001b[0m in \u001b[0;36mwrap_future_result\u001b[0;34m(future, timeout)\u001b[0m\n\u001b[1;32m    540\u001b[0m         AsyncResults.get from multiprocessing.\"\"\"\n\u001b[1;32m    541\u001b[0m         \u001b[0;32mtry\u001b[0m\u001b[0;34m:\u001b[0m\u001b[0;34m\u001b[0m\u001b[0;34m\u001b[0m\u001b[0m\n\u001b[0;32m--> 542\u001b[0;31m             \u001b[0;32mreturn\u001b[0m \u001b[0mfuture\u001b[0m\u001b[0;34m.\u001b[0m\u001b[0mresult\u001b[0m\u001b[0;34m(\u001b[0m\u001b[0mtimeout\u001b[0m\u001b[0;34m=\u001b[0m\u001b[0mtimeout\u001b[0m\u001b[0;34m)\u001b[0m\u001b[0;34m\u001b[0m\u001b[0;34m\u001b[0m\u001b[0m\n\u001b[0m\u001b[1;32m    543\u001b[0m         \u001b[0;32mexcept\u001b[0m \u001b[0mCfTimeoutError\u001b[0m \u001b[0;32mas\u001b[0m \u001b[0me\u001b[0m\u001b[0;34m:\u001b[0m\u001b[0;34m\u001b[0m\u001b[0;34m\u001b[0m\u001b[0m\n\u001b[1;32m    544\u001b[0m             \u001b[0;32mraise\u001b[0m \u001b[0mTimeoutError\u001b[0m \u001b[0;32mfrom\u001b[0m \u001b[0me\u001b[0m\u001b[0;34m\u001b[0m\u001b[0;34m\u001b[0m\u001b[0m\n",
            "\u001b[0;32m/usr/lib/python3.7/concurrent/futures/_base.py\u001b[0m in \u001b[0;36mresult\u001b[0;34m(self, timeout)\u001b[0m\n\u001b[1;32m    428\u001b[0m                 \u001b[0;32mreturn\u001b[0m \u001b[0mself\u001b[0m\u001b[0;34m.\u001b[0m\u001b[0m__get_result\u001b[0m\u001b[0;34m(\u001b[0m\u001b[0;34m)\u001b[0m\u001b[0;34m\u001b[0m\u001b[0;34m\u001b[0m\u001b[0m\n\u001b[1;32m    429\u001b[0m \u001b[0;34m\u001b[0m\u001b[0m\n\u001b[0;32m--> 430\u001b[0;31m             \u001b[0mself\u001b[0m\u001b[0;34m.\u001b[0m\u001b[0m_condition\u001b[0m\u001b[0;34m.\u001b[0m\u001b[0mwait\u001b[0m\u001b[0;34m(\u001b[0m\u001b[0mtimeout\u001b[0m\u001b[0;34m)\u001b[0m\u001b[0;34m\u001b[0m\u001b[0;34m\u001b[0m\u001b[0m\n\u001b[0m\u001b[1;32m    431\u001b[0m \u001b[0;34m\u001b[0m\u001b[0m\n\u001b[1;32m    432\u001b[0m             \u001b[0;32mif\u001b[0m \u001b[0mself\u001b[0m\u001b[0;34m.\u001b[0m\u001b[0m_state\u001b[0m \u001b[0;32min\u001b[0m \u001b[0;34m[\u001b[0m\u001b[0mCANCELLED\u001b[0m\u001b[0;34m,\u001b[0m \u001b[0mCANCELLED_AND_NOTIFIED\u001b[0m\u001b[0;34m]\u001b[0m\u001b[0;34m:\u001b[0m\u001b[0;34m\u001b[0m\u001b[0;34m\u001b[0m\u001b[0m\n",
            "\u001b[0;32m/usr/lib/python3.7/threading.py\u001b[0m in \u001b[0;36mwait\u001b[0;34m(self, timeout)\u001b[0m\n\u001b[1;32m    294\u001b[0m         \u001b[0;32mtry\u001b[0m\u001b[0;34m:\u001b[0m    \u001b[0;31m# restore state no matter what (e.g., KeyboardInterrupt)\u001b[0m\u001b[0;34m\u001b[0m\u001b[0;34m\u001b[0m\u001b[0m\n\u001b[1;32m    295\u001b[0m             \u001b[0;32mif\u001b[0m \u001b[0mtimeout\u001b[0m \u001b[0;32mis\u001b[0m \u001b[0;32mNone\u001b[0m\u001b[0;34m:\u001b[0m\u001b[0;34m\u001b[0m\u001b[0;34m\u001b[0m\u001b[0m\n\u001b[0;32m--> 296\u001b[0;31m                 \u001b[0mwaiter\u001b[0m\u001b[0;34m.\u001b[0m\u001b[0macquire\u001b[0m\u001b[0;34m(\u001b[0m\u001b[0;34m)\u001b[0m\u001b[0;34m\u001b[0m\u001b[0;34m\u001b[0m\u001b[0m\n\u001b[0m\u001b[1;32m    297\u001b[0m                 \u001b[0mgotit\u001b[0m \u001b[0;34m=\u001b[0m \u001b[0;32mTrue\u001b[0m\u001b[0;34m\u001b[0m\u001b[0;34m\u001b[0m\u001b[0m\n\u001b[1;32m    298\u001b[0m             \u001b[0;32melse\u001b[0m\u001b[0;34m:\u001b[0m\u001b[0;34m\u001b[0m\u001b[0;34m\u001b[0m\u001b[0m\n",
            "\u001b[0;31mKeyboardInterrupt\u001b[0m: "
          ]
        }
      ],
      "source": [
        "\n",
        "xgb1 = XGBRegressor()\n",
        "parameters = {'nthread':[4], #when use hyperthread, xgboost may become slower\n",
        "              'objective':['reg:linear'],\n",
        "              'learning_rate': [.03, 0.05, .07], #so called `eta` value\n",
        "              'max_depth': [5, 6, 7],\n",
        "              'min_child_weight': [4],\n",
        "              'silent': [1],\n",
        "              'subsample': [0.7],\n",
        "              'colsample_bytree': [0.7],\n",
        "              'n_estimators': [500]}\n",
        "\n",
        "xgb_grid = GridSearchCV(xgb1,\n",
        "                        parameters,\n",
        "                        cv = 2,\n",
        "                        n_jobs = 5,\n",
        "                        verbose=True) \n",
        "\n",
        "xgb_grid.fit(x_train,\n",
        "         y_train)\n",
        "\n",
        "print(xgb_grid.best_score_)\n",
        "print(xgb_grid.best_params_)"
      ]
    },
    {
      "cell_type": "code",
      "execution_count": 39,
      "metadata": {
        "id": "ijr-Wv-fawz2",
        "colab": {
          "base_uri": "https://localhost:8080/"
        },
        "outputId": "3c076ba4-665f-4996-fd20-350dc2678209"
      },
      "outputs": [
        {
          "output_type": "stream",
          "name": "stdout",
          "text": [
            "13.450251855409093\n"
          ]
        }
      ],
      "source": [
        "model=XGBRegressor(colsample_bytree=0.7,learning_rate= 0.03, max_depth= 5, min_child_weight=4, n_estimators= 500, nthread= 4, objective= 'reg:linear', silent= 1, subsample=0.7)\n",
        "model.fit(x_train,y_train)\n",
        "y_pred=model.predict(x_test)\n",
        "print(mean_absolute_error(y_pred,y_test))"
      ]
    },
    {
      "cell_type": "code",
      "execution_count": 40,
      "metadata": {
        "id": "V5xxsKR1zUeF",
        "colab": {
          "base_uri": "https://localhost:8080/"
        },
        "outputId": "a707309f-cda1-40a4-ed15-b09c7b47504f"
      },
      "outputs": [
        {
          "output_type": "execute_result",
          "data": {
            "text/plain": [
              "-13.52047819135957"
            ]
          },
          "metadata": {},
          "execution_count": 40
        }
      ],
      "source": [
        "\n",
        "r=r2_score(y_pred,y_test)\n",
        "r"
      ]
    },
    {
      "cell_type": "code",
      "source": [
        "mod=CatBoostRegressor(depth=10, iterations= 100, learning_rate= 0.04)\n",
        "mod.fit(x_train,y_train)\n",
        "ypred=model.predict(x_test)\n",
        "r=r2_score(y_pred,y_test)"
      ],
      "metadata": {
        "colab": {
          "base_uri": "https://localhost:8080/"
        },
        "id": "8fx3K-szOE5o",
        "outputId": "7ce3ef63-316e-4d57-cc18-cd9d6b373935"
      },
      "execution_count": 42,
      "outputs": [
        {
          "output_type": "stream",
          "name": "stdout",
          "text": [
            "0:\tlearn: 16.7551907\ttotal: 190ms\tremaining: 18.8s\n",
            "1:\tlearn: 16.7176174\ttotal: 395ms\tremaining: 19.4s\n",
            "2:\tlearn: 16.6832019\ttotal: 584ms\tremaining: 18.9s\n",
            "3:\tlearn: 16.6512154\ttotal: 792ms\tremaining: 19s\n",
            "4:\tlearn: 16.6224551\ttotal: 950ms\tremaining: 18.1s\n",
            "5:\tlearn: 16.5968180\ttotal: 1.11s\tremaining: 17.4s\n",
            "6:\tlearn: 16.5718294\ttotal: 1.27s\tremaining: 16.9s\n",
            "7:\tlearn: 16.5490638\ttotal: 1.44s\tremaining: 16.5s\n",
            "8:\tlearn: 16.5273530\ttotal: 1.61s\tremaining: 16.3s\n",
            "9:\tlearn: 16.5071564\ttotal: 1.8s\tremaining: 16.2s\n",
            "10:\tlearn: 16.4880762\ttotal: 1.99s\tremaining: 16.1s\n",
            "11:\tlearn: 16.4707620\ttotal: 2.16s\tremaining: 15.8s\n",
            "12:\tlearn: 16.4545247\ttotal: 2.31s\tremaining: 15.4s\n",
            "13:\tlearn: 16.4397018\ttotal: 2.48s\tremaining: 15.3s\n",
            "14:\tlearn: 16.4265719\ttotal: 2.62s\tremaining: 14.8s\n",
            "15:\tlearn: 16.4137025\ttotal: 2.76s\tremaining: 14.5s\n",
            "16:\tlearn: 16.4017341\ttotal: 2.96s\tremaining: 14.5s\n",
            "17:\tlearn: 16.3906335\ttotal: 3.27s\tremaining: 14.9s\n",
            "18:\tlearn: 16.3801328\ttotal: 3.52s\tremaining: 15s\n",
            "19:\tlearn: 16.3709447\ttotal: 3.75s\tremaining: 15s\n",
            "20:\tlearn: 16.3620746\ttotal: 3.89s\tremaining: 14.6s\n",
            "21:\tlearn: 16.3539183\ttotal: 4.03s\tremaining: 14.3s\n",
            "22:\tlearn: 16.3461350\ttotal: 4.19s\tremaining: 14s\n",
            "23:\tlearn: 16.3394261\ttotal: 4.34s\tremaining: 13.8s\n",
            "24:\tlearn: 16.3337089\ttotal: 4.48s\tremaining: 13.4s\n",
            "25:\tlearn: 16.3279634\ttotal: 4.61s\tremaining: 13.1s\n",
            "26:\tlearn: 16.3223625\ttotal: 4.79s\tremaining: 12.9s\n",
            "27:\tlearn: 16.3168839\ttotal: 4.95s\tremaining: 12.7s\n",
            "28:\tlearn: 16.3117852\ttotal: 5.13s\tremaining: 12.5s\n",
            "29:\tlearn: 16.3069620\ttotal: 5.27s\tremaining: 12.3s\n",
            "30:\tlearn: 16.3025722\ttotal: 5.42s\tremaining: 12.1s\n",
            "31:\tlearn: 16.2986270\ttotal: 5.56s\tremaining: 11.8s\n",
            "32:\tlearn: 16.2947045\ttotal: 5.71s\tremaining: 11.6s\n",
            "33:\tlearn: 16.2916073\ttotal: 5.88s\tremaining: 11.4s\n",
            "34:\tlearn: 16.2883183\ttotal: 6s\tremaining: 11.1s\n",
            "35:\tlearn: 16.2852278\ttotal: 6.13s\tremaining: 10.9s\n",
            "36:\tlearn: 16.2825448\ttotal: 6.28s\tremaining: 10.7s\n",
            "37:\tlearn: 16.2800729\ttotal: 6.41s\tremaining: 10.5s\n",
            "38:\tlearn: 16.2776516\ttotal: 6.54s\tremaining: 10.2s\n",
            "39:\tlearn: 16.2755881\ttotal: 6.68s\tremaining: 10s\n",
            "40:\tlearn: 16.2736440\ttotal: 6.82s\tremaining: 9.81s\n",
            "41:\tlearn: 16.2715724\ttotal: 6.94s\tremaining: 9.58s\n",
            "42:\tlearn: 16.2695756\ttotal: 7.01s\tremaining: 9.3s\n",
            "43:\tlearn: 16.2678057\ttotal: 7.08s\tremaining: 9.02s\n",
            "44:\tlearn: 16.2661438\ttotal: 7.19s\tremaining: 8.78s\n",
            "45:\tlearn: 16.2646441\ttotal: 7.28s\tremaining: 8.55s\n",
            "46:\tlearn: 16.2630408\ttotal: 7.35s\tremaining: 8.29s\n",
            "47:\tlearn: 16.2620472\ttotal: 7.41s\tremaining: 8.03s\n",
            "48:\tlearn: 16.2608509\ttotal: 7.48s\tremaining: 7.79s\n",
            "49:\tlearn: 16.2596368\ttotal: 7.61s\tremaining: 7.61s\n",
            "50:\tlearn: 16.2585479\ttotal: 7.67s\tremaining: 7.37s\n",
            "51:\tlearn: 16.2575327\ttotal: 7.73s\tremaining: 7.14s\n",
            "52:\tlearn: 16.2567782\ttotal: 7.79s\tremaining: 6.9s\n",
            "53:\tlearn: 16.2558422\ttotal: 7.92s\tremaining: 6.75s\n",
            "54:\tlearn: 16.2550270\ttotal: 8.08s\tremaining: 6.61s\n",
            "55:\tlearn: 16.2542277\ttotal: 8.22s\tremaining: 6.46s\n",
            "56:\tlearn: 16.2533858\ttotal: 8.38s\tremaining: 6.32s\n",
            "57:\tlearn: 16.2527521\ttotal: 8.47s\tremaining: 6.13s\n",
            "58:\tlearn: 16.2521026\ttotal: 8.54s\tremaining: 5.93s\n",
            "59:\tlearn: 16.2514276\ttotal: 8.61s\tremaining: 5.74s\n",
            "60:\tlearn: 16.2507651\ttotal: 8.73s\tremaining: 5.58s\n",
            "61:\tlearn: 16.2501715\ttotal: 8.87s\tremaining: 5.44s\n",
            "62:\tlearn: 16.2497366\ttotal: 9.02s\tremaining: 5.3s\n",
            "63:\tlearn: 16.2491468\ttotal: 9.11s\tremaining: 5.12s\n",
            "64:\tlearn: 16.2486056\ttotal: 9.18s\tremaining: 4.94s\n",
            "65:\tlearn: 16.2481511\ttotal: 9.29s\tremaining: 4.79s\n",
            "66:\tlearn: 16.2476306\ttotal: 9.37s\tremaining: 4.62s\n",
            "67:\tlearn: 16.2473793\ttotal: 9.43s\tremaining: 4.43s\n",
            "68:\tlearn: 16.2472455\ttotal: 9.47s\tremaining: 4.25s\n",
            "69:\tlearn: 16.2467758\ttotal: 9.54s\tremaining: 4.09s\n",
            "70:\tlearn: 16.2463380\ttotal: 9.67s\tremaining: 3.95s\n",
            "71:\tlearn: 16.2460652\ttotal: 9.74s\tremaining: 3.79s\n",
            "72:\tlearn: 16.2457532\ttotal: 9.81s\tremaining: 3.63s\n",
            "73:\tlearn: 16.2453291\ttotal: 9.89s\tremaining: 3.48s\n",
            "74:\tlearn: 16.2450030\ttotal: 10.1s\tremaining: 3.35s\n",
            "75:\tlearn: 16.2447099\ttotal: 10.2s\tremaining: 3.23s\n",
            "76:\tlearn: 16.2445742\ttotal: 10.3s\tremaining: 3.08s\n",
            "77:\tlearn: 16.2444781\ttotal: 10.4s\tremaining: 2.94s\n",
            "78:\tlearn: 16.2442759\ttotal: 10.6s\tremaining: 2.8s\n",
            "79:\tlearn: 16.2440207\ttotal: 10.7s\tremaining: 2.68s\n",
            "80:\tlearn: 16.2437543\ttotal: 10.9s\tremaining: 2.54s\n",
            "81:\tlearn: 16.2434469\ttotal: 11s\tremaining: 2.42s\n",
            "82:\tlearn: 16.2432532\ttotal: 11.2s\tremaining: 2.29s\n",
            "83:\tlearn: 16.2430134\ttotal: 11.4s\tremaining: 2.17s\n",
            "84:\tlearn: 16.2428162\ttotal: 11.6s\tremaining: 2.04s\n",
            "85:\tlearn: 16.2425851\ttotal: 11.7s\tremaining: 1.91s\n",
            "86:\tlearn: 16.2424392\ttotal: 11.9s\tremaining: 1.78s\n",
            "87:\tlearn: 16.2422048\ttotal: 12s\tremaining: 1.64s\n",
            "88:\tlearn: 16.2419351\ttotal: 12.1s\tremaining: 1.5s\n",
            "89:\tlearn: 16.2417108\ttotal: 12.2s\tremaining: 1.36s\n",
            "90:\tlearn: 16.2414965\ttotal: 12.3s\tremaining: 1.22s\n",
            "91:\tlearn: 16.2413382\ttotal: 12.4s\tremaining: 1.07s\n",
            "92:\tlearn: 16.2411400\ttotal: 12.4s\tremaining: 936ms\n",
            "93:\tlearn: 16.2409304\ttotal: 12.6s\tremaining: 802ms\n",
            "94:\tlearn: 16.2407711\ttotal: 12.7s\tremaining: 670ms\n",
            "95:\tlearn: 16.2406192\ttotal: 12.9s\tremaining: 537ms\n",
            "96:\tlearn: 16.2404816\ttotal: 13.1s\tremaining: 404ms\n",
            "97:\tlearn: 16.2404356\ttotal: 13.2s\tremaining: 269ms\n",
            "98:\tlearn: 16.2403520\ttotal: 13.2s\tremaining: 134ms\n",
            "99:\tlearn: 16.2402630\ttotal: 13.3s\tremaining: 0us\n"
          ]
        }
      ]
    },
    {
      "cell_type": "code",
      "source": [
        "mean=mean_absolute_error(y_pred,y_test)\n",
        "mean"
      ],
      "metadata": {
        "colab": {
          "base_uri": "https://localhost:8080/"
        },
        "id": "VDLaxAEfQRo_",
        "outputId": "06eafb35-87b8-4b97-dbfc-ee3b1ec93ece"
      },
      "execution_count": 44,
      "outputs": [
        {
          "output_type": "execute_result",
          "data": {
            "text/plain": [
              "13.450251855409093"
            ]
          },
          "metadata": {},
          "execution_count": 44
        }
      ]
    },
    {
      "cell_type": "code",
      "source": [
        "r"
      ],
      "metadata": {
        "colab": {
          "base_uri": "https://localhost:8080/"
        },
        "id": "ls5gkxrMQf48",
        "outputId": "50fcc8fa-39a0-4ba5-d1d2-6d6ecc8b2e8a"
      },
      "execution_count": 45,
      "outputs": [
        {
          "output_type": "execute_result",
          "data": {
            "text/plain": [
              "-13.52047819135957"
            ]
          },
          "metadata": {},
          "execution_count": 45
        }
      ]
    },
    {
      "cell_type": "code",
      "source": [
        ""
      ],
      "metadata": {
        "id": "Fl87e-5UQia1"
      },
      "execution_count": null,
      "outputs": []
    }
  ],
  "metadata": {
    "accelerator": "GPU",
    "colab": {
      "collapsed_sections": [],
      "name": "traffic_flow_fe.ipynb",
      "provenance": []
    },
    "kernelspec": {
      "display_name": "Python 3",
      "name": "python3"
    },
    "language_info": {
      "name": "python"
    }
  },
  "nbformat": 4,
  "nbformat_minor": 0
}